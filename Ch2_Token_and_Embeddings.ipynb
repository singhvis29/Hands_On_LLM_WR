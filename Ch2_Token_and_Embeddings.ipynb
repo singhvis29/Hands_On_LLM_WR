{
 "cells": [
  {
   "cell_type": "markdown",
   "metadata": {
    "colab_type": "text",
    "id": "view-in-github"
   },
   "source": [
    "<a href=\"https://colab.research.google.com/github/singhvis29/Hands_On_LLM_WR/blob/main/ch2_token_and_embeddings.ipynb\" target=\"_parent\"><img src=\"https://colab.research.google.com/assets/colab-badge.svg\" alt=\"Open In Colab\"/></a>"
   ]
  },
  {
   "cell_type": "code",
   "execution_count": null,
   "metadata": {
    "id": "Cbb75ALADsW0"
   },
   "outputs": [],
   "source": [
    "%%capture\n",
    "!pip install transformers>=4.41.2 sentence-transformers>=3.0.1 gensim>=4.3.2 scikit-learn>=1.5.0 accelerate>=0.31.0"
   ]
  },
  {
   "cell_type": "code",
   "execution_count": null,
   "metadata": {
    "id": "ljlj_ke8GOG9"
   },
   "outputs": [],
   "source": [
    "from transformers import AutoModelForCausalLM, AutoTokenizer"
   ]
  },
  {
   "cell_type": "markdown",
   "metadata": {
    "id": "k-4laL59J26k"
   },
   "source": [
    "We are using a generative model 'microsoft/Phi-3-mini-4k-instruct' to generate text based on text Prompt.\n",
    "\n"
   ]
  },
  {
   "cell_type": "code",
   "execution_count": null,
   "metadata": {
    "colab": {
     "base_uri": "https://localhost:8080/",
     "height": 791,
     "referenced_widgets": [
      "aed16eca52a4472f91d287bda2f3535f",
      "58c78002184747dab1e8a89a83f85c17",
      "df7b5a1197c146fd9dde785c80331ef4",
      "9a82077eb10a496c95447d95043e616a",
      "db8020ed2532493d9d8c75e544750252",
      "bffa89bbb35240b6ae69b52d7338bba7",
      "2d1e51dea2764fe28928abb06fb09ac3",
      "9eb83e4b98f84f64ab4777100b0adc0f",
      "d03efa90431948a99391261f1652392d",
      "44f1c16471b342c78d07e86a7c32d0eb",
      "f8a424960355463385be7a5fbb5843de",
      "a8547945f6bf4e9f844a02ac231374e8",
      "5e033e4e74624c22a163b54228855143",
      "6949e0e323c2418bb0ddabea9939513d",
      "c50442024624475f86adbc0ea4f2503c",
      "c204283e1c414924b6a9dcfce7c60178",
      "483c37df564240838d2957dad4e50d71",
      "810d862a0e5c45aba946a1507b7fe1ae",
      "4af1dc25919245c8b1dfe1ebc65d11f0",
      "d20b813bf85d48c5a3d7087af44eb35c",
      "9c47009308564dd384545f0798409292",
      "1ec4ddd4182d4300ae965fb6f06b8c01",
      "c942eccd32d14cf1af01b36175353913",
      "a8d2266ee4a64e3dbc9b510fa25dfcb3",
      "5dace746751e4d9887952454933aa890",
      "656f62809d2d4b6381ffbe02f548d4b8",
      "106af2bf5e1a46bab297a14d932b2e09",
      "6a08b547e347499ea85b3a23bfa264ea",
      "4d431b00ef694bcfa7807e8cedfb021e",
      "9874212b308343d9b4d8c190b4025c5a",
      "1409407e6eba4aa6b4ab546e3144bf34",
      "c886d5942c41405192d679673f73615e",
      "4dc8860b204c4437b8e6dfc99b22fc5d",
      "14349ddbff74457cb131fb927833c9fd",
      "3937f423fe26442f85f0d4e58acbdaf5",
      "464b4107389f41c48be35ae77be8e8f0",
      "82eff904e9754b15a05822f1c66ece3b",
      "df08a952aed548748ad95376ca8e17cc",
      "342d4e8391524c1cad67e4924626531f",
      "5fe33665e7c249748474dd38ff8db476",
      "1b28b7eed76a41118260b8e05c409503",
      "e1b888dde9544972bec128d4a88d7c49",
      "cc1c71a9383540f0b6208109e308fe5c",
      "276420c0113c4ecfb4f41ab3727bed3a",
      "deec692812a2411f8479a4475825e900",
      "50646d7662d044939c5add2265dfb732",
      "55c5aa80fdaf4ff3877d1a23a086bc40",
      "574de90b7a5344479cb4b6b8526eb520",
      "e36906aa52a7471c9c8fa48333426222",
      "fec06064ecc943d581a8b8b10b8ae5fe",
      "530ea23fd3284d0587c00fec8634583c",
      "60038baff8fd4db2adb7ec38e1300577",
      "d3e58e10d3fd4cdda7e4437ea82384c0",
      "4599034008c845ccbf0d0c6521a56d2f",
      "8a3f8f21a4254c98acaa192fae9a8893",
      "5a0a82df06db45c180da16e99358fd16",
      "a2265a7dbbf94a86805343be6951625e",
      "bbc2e3d7638540dbb545cf2fe0d50bf7",
      "22d2ed18caae445b9ebbea5420235abc",
      "f506aad5e7094ff78cd44a16090d5d89",
      "c9afb729d7d34e4b8d9d2bc921e275db",
      "9b8154e8c202443d85ef764f5246564f",
      "e7bc344b6d314c50b3815cd6f87057bb",
      "bd5542de7b464409a451fa26dddc5ad2",
      "5647e576ab7f4a0596347bed90f724c5",
      "ca14a61a15e14a4dbc36fac4c93ea0bb",
      "b35ebdb1d3694952a6a9f0f01a8f9311",
      "e522a29ecea84622ac4d2c0c348abada",
      "8f689b111c2a4c74a11ca260661004c5",
      "16aa3334c8f14f189713c345caa1b394",
      "13c7cc0adbed495e916b8b2b4a9a6440",
      "7016d2eaa4374bf79b2ee6b043b43195",
      "7b8f23fc5fd24509822a3af4b5b4cdf7",
      "9c5ed3534d804f95b955a407bf1bdb94",
      "29d112023fec4c2986554cd34f239d78",
      "0848777ac1be48b786c710dec7e19b61",
      "49f8b6711dfe4a538f6d79aa595f2b01",
      "8e3f0abb007f46b19f9db7a9a6f48c79",
      "fb4fc9abcc2146da9d805ed26431acff",
      "22c8f749463540da8beeb22e6bc69e94",
      "f60879e35bd540f488ff0b379028f643",
      "7c972a4802f3451d8f005bb73fac4b09",
      "4a15ce8cca234da5a1b401edc9b34149",
      "569b65f269754936a1f58810a6ef8495",
      "f3ca35fbad22482487afec233ae2b280",
      "71aa5a4fdec34740a9a4257afcae0e25",
      "ae568e8eecc843a7916973077583b923",
      "875bf86bd7f04e4f9c94c008342c76f3",
      "66c525d65c5147b1a79d81dd7ab4371b",
      "1a3304c9a6de43e1a530f7db76f64ab5",
      "7182d62d9fd44171adfd9d46930bd332",
      "2f330b54e22d4ef2b18ea6ab81092b50",
      "627c2f2870044b2b981f517dcf6a4b06",
      "2a0217eb51f449dfa1cfd3cc12f407f4",
      "6e292d3d9e9c49f2a11b36f8947c33df",
      "f7b02f2d667540ab9385e3cf7adef021",
      "511a82ddbdb24fb58c0e47c8c076f9f5",
      "4f07a0b29a3448909e0cf5c3c73f5c37",
      "0d889e4ee4b149afbd28695a496ca13e",
      "0ea19b1d9d6643fea65dce969a64c61e",
      "45b93eba69ea40889601bacee2565488",
      "0dbca9b286a64032bdfc938f34652ecd",
      "6b18a06988ec40cc8b9129b5ae8a146b",
      "c9f8620db74d4e35b49879eb5ac54813",
      "f4d42215508b453193dbefc8051c9c57",
      "a61479d4c36a48d9a1e364b391d9133c",
      "171bb505b066449a953429034823fe95",
      "8ba3809839514eeb90c4b89bddf7c229",
      "d772d866aac84194bc6c2c010f6aac68",
      "b028628a87b34bd6be6c439b2ec38900",
      "c9d3c0c4235649d18291613f6bc0e3ea",
      "282041b736bc420993b2807c949bcf59",
      "8f91b44a76eb4ce6a121b93ab72f07f0",
      "1491df02564c4394b1140eba497ce8f1",
      "7976478a0eff44a4b852293b65b375c8",
      "f77c2593a73a463990c3922d6e646916",
      "b1add0f26e5e466c832498e2fab1529d",
      "7a463d9242164969827c9222b796db8d",
      "287fa6f316cd4916b6579912d0df642e",
      "866e36d985d84bd3a1c36cc05c47df48",
      "34bfc44bf6e3491c8403e8918caa0a06",
      "ad32cfd79d514ed7912637f9ec19c69e",
      "ac8b61f4fc8641b7a4c604ce98c59b92",
      "3ce36d96d6ef4860901fd6a9e92c1389",
      "b4cf6a17cee041b082756303899cd1be",
      "151af472f96d4a8bab4feb67bf8c899b",
      "19cf67fdcb9a4b6c872bae4305507e8c",
      "def00ef4bc66430d85eb84f57e5b8594",
      "57d8fe5504534107a1e01761963cb575",
      "4cabec9b1c80486699fbb6c8ff8c3361",
      "996d0209d67944ff9830ab3ef4168c8f",
      "5fd4f6660f7e48878e50db835c8ac076",
      "85506bfd1c70457eb56af517ce2bb3ce",
      "487301259ab24bfea607c755989beca0",
      "3d940d0cfd9a465cac0c064e9bb07473",
      "e54e26fe1f194c1eb0e04b1a153d43f2",
      "98082db62ba143aca208c7f9780abc78",
      "13cf826204934df0bb2f47b352c5cd3f",
      "bd9a2cfe63db42a99175358682a1ac38",
      "cdd5fa8e14b8406d9007aedb1bf9e72a",
      "f26955a26b924033b4545a0241a133b0",
      "8272f1189e34459581ef4655a649a77c",
      "45f2d8a154fe441d98ff542f9e91eabc",
      "205ff54eb2fe45a18caf8c891437619b",
      "642a44a346054512be0bb9375740a77f",
      "4a047a8b79dc46ea85d2c864f56b7652",
      "512ae5126b0d4ea3989cbaa04fd74838",
      "30a19d1bab764c9bb7ff5e3673bf36b3",
      "17aea294624f4f10a174e72ea3d44ba2",
      "f4c56460bc6645d9a1f92c5fddda89b6",
      "e136079091714a14854a77d4c19a70c7",
      "40633d9c55884949b40db246df5fc316",
      "3cb837d62bcf471db8f8149fcb3b7c9b",
      "9b048158b6dc4c2c9704b667bc0cd463"
     ]
    },
    "id": "bQaL3MWOGjy_",
    "outputId": "6021d70e-883d-4c77-dc4c-075e9f3bd6c2"
   },
   "outputs": [
    {
     "name": "stderr",
     "output_type": "stream",
     "text": [
      "/usr/local/lib/python3.11/dist-packages/huggingface_hub/utils/_auth.py:94: UserWarning: \n",
      "The secret `HF_TOKEN` does not exist in your Colab secrets.\n",
      "To authenticate with the Hugging Face Hub, create a token in your settings tab (https://huggingface.co/settings/tokens), set it as secret in your Google Colab and restart your session.\n",
      "You will be able to reuse this secret in all of your notebooks.\n",
      "Please note that authentication is recommended but still optional to access public models or datasets.\n",
      "  warnings.warn(\n"
     ]
    },
    {
     "data": {
      "application/vnd.jupyter.widget-view+json": {
       "model_id": "aed16eca52a4472f91d287bda2f3535f",
       "version_major": 2,
       "version_minor": 0
      },
      "text/plain": [
       "config.json:   0%|          | 0.00/967 [00:00<?, ?B/s]"
      ]
     },
     "metadata": {},
     "output_type": "display_data"
    },
    {
     "data": {
      "application/vnd.jupyter.widget-view+json": {
       "model_id": "a8547945f6bf4e9f844a02ac231374e8",
       "version_major": 2,
       "version_minor": 0
      },
      "text/plain": [
       "configuration_phi3.py:   0%|          | 0.00/11.2k [00:00<?, ?B/s]"
      ]
     },
     "metadata": {},
     "output_type": "display_data"
    },
    {
     "name": "stderr",
     "output_type": "stream",
     "text": [
      "A new version of the following files was downloaded from https://huggingface.co/microsoft/Phi-3-mini-4k-instruct:\n",
      "- configuration_phi3.py\n",
      ". Make sure to double-check they do not contain any added malicious code. To avoid downloading new versions of the code file, you can pin a revision.\n"
     ]
    },
    {
     "data": {
      "application/vnd.jupyter.widget-view+json": {
       "model_id": "c942eccd32d14cf1af01b36175353913",
       "version_major": 2,
       "version_minor": 0
      },
      "text/plain": [
       "modeling_phi3.py:   0%|          | 0.00/73.2k [00:00<?, ?B/s]"
      ]
     },
     "metadata": {},
     "output_type": "display_data"
    },
    {
     "name": "stderr",
     "output_type": "stream",
     "text": [
      "A new version of the following files was downloaded from https://huggingface.co/microsoft/Phi-3-mini-4k-instruct:\n",
      "- modeling_phi3.py\n",
      ". Make sure to double-check they do not contain any added malicious code. To avoid downloading new versions of the code file, you can pin a revision.\n",
      "WARNING:transformers_modules.microsoft.Phi-3-mini-4k-instruct.0a67737cc96d2554230f90338b163bc6380a2a85.modeling_phi3:`flash-attention` package not found, consider installing for better performance: No module named 'flash_attn'.\n",
      "WARNING:transformers_modules.microsoft.Phi-3-mini-4k-instruct.0a67737cc96d2554230f90338b163bc6380a2a85.modeling_phi3:Current `flash-attention` does not support `window_size`. Either upgrade or use `attn_implementation='eager'`.\n"
     ]
    },
    {
     "data": {
      "application/vnd.jupyter.widget-view+json": {
       "model_id": "14349ddbff74457cb131fb927833c9fd",
       "version_major": 2,
       "version_minor": 0
      },
      "text/plain": [
       "model.safetensors.index.json:   0%|          | 0.00/16.5k [00:00<?, ?B/s]"
      ]
     },
     "metadata": {},
     "output_type": "display_data"
    },
    {
     "data": {
      "application/vnd.jupyter.widget-view+json": {
       "model_id": "deec692812a2411f8479a4475825e900",
       "version_major": 2,
       "version_minor": 0
      },
      "text/plain": [
       "Downloading shards:   0%|          | 0/2 [00:00<?, ?it/s]"
      ]
     },
     "metadata": {},
     "output_type": "display_data"
    },
    {
     "data": {
      "application/vnd.jupyter.widget-view+json": {
       "model_id": "5a0a82df06db45c180da16e99358fd16",
       "version_major": 2,
       "version_minor": 0
      },
      "text/plain": [
       "model-00001-of-00002.safetensors:   0%|          | 0.00/4.97G [00:00<?, ?B/s]"
      ]
     },
     "metadata": {},
     "output_type": "display_data"
    },
    {
     "data": {
      "application/vnd.jupyter.widget-view+json": {
       "model_id": "b35ebdb1d3694952a6a9f0f01a8f9311",
       "version_major": 2,
       "version_minor": 0
      },
      "text/plain": [
       "model-00002-of-00002.safetensors:   0%|          | 0.00/2.67G [00:00<?, ?B/s]"
      ]
     },
     "metadata": {},
     "output_type": "display_data"
    },
    {
     "data": {
      "application/vnd.jupyter.widget-view+json": {
       "model_id": "8e3f0abb007f46b19f9db7a9a6f48c79",
       "version_major": 2,
       "version_minor": 0
      },
      "text/plain": [
       "Loading checkpoint shards:   0%|          | 0/2 [00:00<?, ?it/s]"
      ]
     },
     "metadata": {},
     "output_type": "display_data"
    },
    {
     "data": {
      "application/vnd.jupyter.widget-view+json": {
       "model_id": "66c525d65c5147b1a79d81dd7ab4371b",
       "version_major": 2,
       "version_minor": 0
      },
      "text/plain": [
       "generation_config.json:   0%|          | 0.00/181 [00:00<?, ?B/s]"
      ]
     },
     "metadata": {},
     "output_type": "display_data"
    },
    {
     "data": {
      "application/vnd.jupyter.widget-view+json": {
       "model_id": "0ea19b1d9d6643fea65dce969a64c61e",
       "version_major": 2,
       "version_minor": 0
      },
      "text/plain": [
       "tokenizer_config.json:   0%|          | 0.00/3.44k [00:00<?, ?B/s]"
      ]
     },
     "metadata": {},
     "output_type": "display_data"
    },
    {
     "data": {
      "application/vnd.jupyter.widget-view+json": {
       "model_id": "c9d3c0c4235649d18291613f6bc0e3ea",
       "version_major": 2,
       "version_minor": 0
      },
      "text/plain": [
       "tokenizer.model:   0%|          | 0.00/500k [00:00<?, ?B/s]"
      ]
     },
     "metadata": {},
     "output_type": "display_data"
    },
    {
     "data": {
      "application/vnd.jupyter.widget-view+json": {
       "model_id": "ad32cfd79d514ed7912637f9ec19c69e",
       "version_major": 2,
       "version_minor": 0
      },
      "text/plain": [
       "tokenizer.json:   0%|          | 0.00/1.94M [00:00<?, ?B/s]"
      ]
     },
     "metadata": {},
     "output_type": "display_data"
    },
    {
     "data": {
      "application/vnd.jupyter.widget-view+json": {
       "model_id": "85506bfd1c70457eb56af517ce2bb3ce",
       "version_major": 2,
       "version_minor": 0
      },
      "text/plain": [
       "added_tokens.json:   0%|          | 0.00/306 [00:00<?, ?B/s]"
      ]
     },
     "metadata": {},
     "output_type": "display_data"
    },
    {
     "data": {
      "application/vnd.jupyter.widget-view+json": {
       "model_id": "205ff54eb2fe45a18caf8c891437619b",
       "version_major": 2,
       "version_minor": 0
      },
      "text/plain": [
       "special_tokens_map.json:   0%|          | 0.00/599 [00:00<?, ?B/s]"
      ]
     },
     "metadata": {},
     "output_type": "display_data"
    }
   ],
   "source": [
    "# Load model and tokenizer\n",
    "model = AutoModelForCausalLM.from_pretrained(\n",
    "    \"microsoft/Phi-3-mini-4k-instruct\",\n",
    "    device_map=\"cuda\",\n",
    "    torch_dtype=\"auto\",\n",
    "    trust_remote_code=True,\n",
    ")\n",
    "tokenizer = AutoTokenizer.from_pretrained(\"microsoft/Phi-3-mini-4k-instruct\")"
   ]
  },
  {
   "cell_type": "markdown",
   "metadata": {
    "id": "a-5ezgUvKFCI"
   },
   "source": [
    "We first generate provide the prompt and ask the model to generate the token using the tokenizer."
   ]
  },
  {
   "cell_type": "code",
   "execution_count": null,
   "metadata": {
    "colab": {
     "base_uri": "https://localhost:8080/"
    },
    "id": "REhDvgjFGlA5",
    "outputId": "b6b447d2-9d6d-4292-a41b-2a4115a92de1"
   },
   "outputs": [
    {
     "name": "stdout",
     "output_type": "stream",
     "text": [
      "tensor([[14350,   385,  4876, 27746,  5281,   304, 19235,   363,   278, 25305,\n",
      "           293, 16423,   292,   286,   728,   481, 29889, 12027,  7420,   920,\n",
      "           372,  9559, 29889, 32001]], device='cuda:0')\n"
     ]
    }
   ],
   "source": [
    "prompt = \"Write an email apologizing to Sarah for the tragic gardening mishap. Explain how it happened.<|assistant|>\"\n",
    "\n",
    "# Tokenize the input prompt\n",
    "input_ids = tokenizer(prompt, return_tensors=\"pt\").input_ids.to(\"cuda\")\n",
    "print(input_ids)"
   ]
  },
  {
   "cell_type": "markdown",
   "metadata": {
    "id": "XWOQZ8YjKmHK"
   },
   "source": [
    "The token are provided as input to the model"
   ]
  },
  {
   "cell_type": "code",
   "execution_count": null,
   "metadata": {
    "id": "PXRB4lsOKQ7h"
   },
   "outputs": [],
   "source": [
    "# Generate the text\n",
    "generation_output = model.generate(\n",
    "  input_ids=input_ids,\n",
    "  max_new_tokens=20\n",
    ")"
   ]
  },
  {
   "cell_type": "code",
   "execution_count": null,
   "metadata": {
    "colab": {
     "base_uri": "https://localhost:8080/"
    },
    "id": "BknuykKnKqu1",
    "outputId": "ebfe72dc-ac61-49cd-f23c-7ed97fba3353"
   },
   "outputs": [
    {
     "name": "stdout",
     "output_type": "stream",
     "text": [
      "Write an email apologizing to Sarah for the tragic gardening mishap. Explain how it happened.<|assistant|> Subject: Sincere Apologies for the Gardening Mishap\n",
      "\n",
      "\n",
      "Dear\n"
     ]
    }
   ],
   "source": [
    "# Print the output\n",
    "print(tokenizer.decode(generation_output[0]))"
   ]
  },
  {
   "cell_type": "code",
   "execution_count": null,
   "metadata": {
    "colab": {
     "base_uri": "https://localhost:8080/"
    },
    "id": "pp1q805IK1SU",
    "outputId": "e94f0bd1-c33c-4391-8c1c-a4f389bf7e07"
   },
   "outputs": [
    {
     "name": "stdout",
     "output_type": "stream",
     "text": [
      "tensor([[14350,   385,  4876, 27746,  5281,   304, 19235,   363,   278, 25305,\n",
      "           293, 16423,   292,   286,   728,   481, 29889, 12027,  7420,   920,\n",
      "           372,  9559, 29889, 32001,  3323,   622, 29901,   317,  3742,   406,\n",
      "          6225, 11763,   363,   278, 19906,   292,   341,   728,   481,    13,\n",
      "            13,    13, 29928,   799]], device='cuda:0')\n"
     ]
    }
   ],
   "source": [
    "print(generation_output)"
   ]
  },
  {
   "cell_type": "markdown",
   "metadata": {
    "id": "fENV7AZRLEz8"
   },
   "source": [
    "we can see that the model does not in fact receive the text prompt. Instead, the tokenizers processed the input prompt, and returned the information the model needed in the variable input_ids, which the model used as its input.\n",
    "\n",
    "The model output is also in form of tokens. We use the tokenizer to output the meaning words from the token."
   ]
  },
  {
   "cell_type": "markdown",
   "metadata": {
    "id": "IjwrhYowMVH5"
   },
   "source": [
    "We will now see how different tokenizers token different kinds of text"
   ]
  },
  {
   "cell_type": "code",
   "execution_count": null,
   "metadata": {
    "id": "b_cWY5eQLC1q"
   },
   "outputs": [],
   "source": [
    "from transformers import AutoModelForCausalLM, AutoTokenizer\n",
    "\n",
    "colors_list = [\n",
    "    '102;194;165', '252;141;98', '141;160;203',\n",
    "    '231;138;195', '166;216;84', '255;217;47'\n",
    "]\n",
    "\n",
    "def show_tokens(sentence, tokenizer_name):\n",
    "    tokenizer = AutoTokenizer.from_pretrained(tokenizer_name)\n",
    "    token_ids = tokenizer(sentence).input_ids\n",
    "    for idx, t in enumerate(token_ids):\n",
    "        print(\n",
    "            f'\\x1b[0;30;48;2;{colors_list[idx % len(colors_list)]}m' +\n",
    "            tokenizer.decode(t) +\n",
    "            '\\x1b[0m',\n",
    "            end=' '\n",
    "        )"
   ]
  },
  {
   "cell_type": "code",
   "execution_count": null,
   "metadata": {
    "id": "4P2cdZ06MbCx"
   },
   "outputs": [],
   "source": [
    "text = \"\"\"\n",
    "English and CAPITALIZATION\n",
    "🎵 鸟\n",
    "show_tokens False None elif == >= else: two tabs:\"    \" Three tabs: \"       \"\n",
    "12.0*50=600\n",
    "\"\"\""
   ]
  },
  {
   "cell_type": "code",
   "execution_count": null,
   "metadata": {
    "colab": {
     "base_uri": "https://localhost:8080/",
     "height": 290,
     "referenced_widgets": [
      "e94df431242c4c9184434deba1271386",
      "d2a11c48fce34fa789feaadd203b9673",
      "4e03928c7dcc4b2c8416eac2b8e38abd",
      "53ba145f74b542f5929b1b73fcc8f190",
      "b3cd089c03fd4b6398d849e660c7c066",
      "6fe1756d0c214d79a59593565c6d1573",
      "3caf0ec0716f4f3cad34e722cb9f789e",
      "bf0b77397c6f4491b069b1432359f029",
      "31b9e25266f146a0a20900763bc3aee1",
      "e8da9f67a39a4415a87b8ebdd72e9060",
      "c40043a53f554d389994959687fc4de7",
      "8b1d6599ac03452684784be96024a1ff",
      "f137300245b44875a5672a8aa30ad8d9",
      "6f85d118037940c1a013b1fb732de704",
      "b7aeb6b7d82647f899768a390bad6c4e",
      "3f7d8a857207479d9106d6a6f139ec7c",
      "2166a02e1fd84d4aa8340b165a3f3f4b",
      "eb9abc2899e94f05a12eceeb545eec02",
      "c63625f028c14d7e8c582235d034fdee",
      "0a4f7b1e4d9147bea52809eed690d10e",
      "18c7726ff3624477a8c81dac8becf73c",
      "5a5c0f1c33794e12abfaaa99b40734d0",
      "65bad883a0ea46e68cb2a07fbcadba59",
      "1a8e3f7c3bcf4f3d86cf94f783286db8",
      "e57b4439e51a479895453717749cd13a",
      "3ba9b340bfe84d0f8c13646c4534592f",
      "056252a733c348b1a8471efffe07fd8d",
      "fe9801d1f3c9458fac6ddf5cedde9487",
      "9f2e637d43b34423802b9a799e80f069",
      "c13ec51ba70c4145a1582ae6d75b3f71",
      "9b63f1e241944ea7b41599fcc393a408",
      "579fb63f655e4011a5d0ae82646d3c6c",
      "efdd62df6ce8408f8b56b4e23bdc638f",
      "ad144b54804740b0b5526bcf5140c15a",
      "ae280f276398452fa684b53469962a86",
      "859778bd28144a12bd77fd94fd05a1a2",
      "9a43940786f44711ac6d3fa6fe8c0521",
      "9a025ee90175470292ec068a0bf2f84a",
      "ea292046ec994c6e934b04b3f10a0b2b",
      "166f19b99af546b0912cc0ea7a27e786",
      "ec76c2d059244c3eba5a986df9ee08fc",
      "cc56ab4c1658489fa942f69d3417ff79",
      "2e06ad88da53421a88d22d170173ffe3",
      "bdc2c623a1854625b170f57e350ae02c"
     ]
    },
    "id": "OnPrnIg7MgDE",
    "outputId": "553cfe3e-ade4-4c8b-ed22-f5d7d7e2e25c"
   },
   "outputs": [
    {
     "name": "stderr",
     "output_type": "stream",
     "text": [
      "/usr/local/lib/python3.11/dist-packages/huggingface_hub/utils/_auth.py:94: UserWarning: \n",
      "The secret `HF_TOKEN` does not exist in your Colab secrets.\n",
      "To authenticate with the Hugging Face Hub, create a token in your settings tab (https://huggingface.co/settings/tokens), set it as secret in your Google Colab and restart your session.\n",
      "You will be able to reuse this secret in all of your notebooks.\n",
      "Please note that authentication is recommended but still optional to access public models or datasets.\n",
      "  warnings.warn(\n"
     ]
    },
    {
     "data": {
      "application/vnd.jupyter.widget-view+json": {
       "model_id": "e94df431242c4c9184434deba1271386",
       "version_major": 2,
       "version_minor": 0
      },
      "text/plain": [
       "tokenizer_config.json:   0%|          | 0.00/48.0 [00:00<?, ?B/s]"
      ]
     },
     "metadata": {},
     "output_type": "display_data"
    },
    {
     "data": {
      "application/vnd.jupyter.widget-view+json": {
       "model_id": "8b1d6599ac03452684784be96024a1ff",
       "version_major": 2,
       "version_minor": 0
      },
      "text/plain": [
       "config.json:   0%|          | 0.00/570 [00:00<?, ?B/s]"
      ]
     },
     "metadata": {},
     "output_type": "display_data"
    },
    {
     "data": {
      "application/vnd.jupyter.widget-view+json": {
       "model_id": "65bad883a0ea46e68cb2a07fbcadba59",
       "version_major": 2,
       "version_minor": 0
      },
      "text/plain": [
       "vocab.txt:   0%|          | 0.00/232k [00:00<?, ?B/s]"
      ]
     },
     "metadata": {},
     "output_type": "display_data"
    },
    {
     "data": {
      "application/vnd.jupyter.widget-view+json": {
       "model_id": "ad144b54804740b0b5526bcf5140c15a",
       "version_major": 2,
       "version_minor": 0
      },
      "text/plain": [
       "tokenizer.json:   0%|          | 0.00/466k [00:00<?, ?B/s]"
      ]
     },
     "metadata": {},
     "output_type": "display_data"
    },
    {
     "name": "stdout",
     "output_type": "stream",
     "text": [
      "\u001b[0;30;48;2;102;194;165m[CLS]\u001b[0m \u001b[0;30;48;2;252;141;98menglish\u001b[0m \u001b[0;30;48;2;141;160;203mand\u001b[0m \u001b[0;30;48;2;231;138;195mcapital\u001b[0m \u001b[0;30;48;2;166;216;84m##ization\u001b[0m \u001b[0;30;48;2;255;217;47m[UNK]\u001b[0m \u001b[0;30;48;2;102;194;165m[UNK]\u001b[0m \u001b[0;30;48;2;252;141;98mshow\u001b[0m \u001b[0;30;48;2;141;160;203m_\u001b[0m \u001b[0;30;48;2;231;138;195mtoken\u001b[0m \u001b[0;30;48;2;166;216;84m##s\u001b[0m \u001b[0;30;48;2;255;217;47mfalse\u001b[0m \u001b[0;30;48;2;102;194;165mnone\u001b[0m \u001b[0;30;48;2;252;141;98meli\u001b[0m \u001b[0;30;48;2;141;160;203m##f\u001b[0m \u001b[0;30;48;2;231;138;195m=\u001b[0m \u001b[0;30;48;2;166;216;84m=\u001b[0m \u001b[0;30;48;2;255;217;47m>\u001b[0m \u001b[0;30;48;2;102;194;165m=\u001b[0m \u001b[0;30;48;2;252;141;98melse\u001b[0m \u001b[0;30;48;2;141;160;203m:\u001b[0m \u001b[0;30;48;2;231;138;195mtwo\u001b[0m \u001b[0;30;48;2;166;216;84mtab\u001b[0m \u001b[0;30;48;2;255;217;47m##s\u001b[0m \u001b[0;30;48;2;102;194;165m:\u001b[0m \u001b[0;30;48;2;252;141;98m\"\u001b[0m \u001b[0;30;48;2;141;160;203m\"\u001b[0m \u001b[0;30;48;2;231;138;195mthree\u001b[0m \u001b[0;30;48;2;166;216;84mtab\u001b[0m \u001b[0;30;48;2;255;217;47m##s\u001b[0m \u001b[0;30;48;2;102;194;165m:\u001b[0m \u001b[0;30;48;2;252;141;98m\"\u001b[0m \u001b[0;30;48;2;141;160;203m\"\u001b[0m \u001b[0;30;48;2;231;138;195m12\u001b[0m \u001b[0;30;48;2;166;216;84m.\u001b[0m \u001b[0;30;48;2;255;217;47m0\u001b[0m \u001b[0;30;48;2;102;194;165m*\u001b[0m \u001b[0;30;48;2;252;141;98m50\u001b[0m \u001b[0;30;48;2;141;160;203m=\u001b[0m \u001b[0;30;48;2;231;138;195m600\u001b[0m \u001b[0;30;48;2;166;216;84m[SEP]\u001b[0m "
     ]
    }
   ],
   "source": [
    "show_tokens(text, \"bert-base-uncased\")"
   ]
  },
  {
   "cell_type": "code",
   "execution_count": null,
   "metadata": {
    "colab": {
     "base_uri": "https://localhost:8080/",
     "height": 183,
     "referenced_widgets": [
      "44eeb95e019b44ef9498e3b5e1d4d4c6",
      "e8c4586ed1914ae2816ff39be73307bb",
      "61e514ae65bd4f149f559a4014f88b6a",
      "374967cdc2b242239495ad6ff5c59456",
      "d40f6d1dee0a48e597252a4057831616",
      "d5a460f2061946dd93a8cd89e93e0e62",
      "ac5e9e46020644189b59947750c626c1",
      "1c9c460f65e14a0b8ec3e123c289bf9e",
      "c527363fb28e404588a833a49a86399f",
      "337bf1c6beb54af4afe59a383960785d",
      "9a917f0a036242cdb26e8c11a95ca94b",
      "7be6c0c5aad04e53a85716fa6dd8a532",
      "8f20604918c24f39860f3df180c98cbc",
      "676e096945b14ef29d844fdd595a4289",
      "9a97b26d5c284f198dc97a36422d9bf6",
      "daeff42865b8429faa1c69db07ae3516",
      "8de5fc7b54024ef3abeaec0c6ae61933",
      "43a194c7d2044e0084f4e0f41a26b0a2",
      "51cd2aa8e447464b8cb4504de827ca46",
      "85c9381e50ef45ce9179536709d76d20",
      "89d45948f34545e1ac995495ee7fba38",
      "e697ebd5cc2f4d62bec12621779542ef",
      "4ee177a220cd47999fb6b80d1a2cc764",
      "3872cf82fb184107ae0634f71380fd8b",
      "f58f7ca34216409b80ae94b847684245",
      "e9c654164a7340f68c7dca81834c4658",
      "385ad86226cd4d0c8d839226a207da20",
      "f3b49c1d4c664abbb09953cc06918c5b",
      "93cd1db8fb2a49708bfd4bd2b052b993",
      "2928b25c303d482a9fdb5a1f4e70287b",
      "2adcb38176b3464a99ba02836cdedafb",
      "32d3b4d8c0e04ad9b52bc8f726e3e95a",
      "84a1f562b4b346b2b30e53e0dfb8a9f3",
      "2cf1874dd3d94a33b99fbeaad55303b8",
      "d767e7857ef943cc8267e44bbd00f322",
      "16a4dd7ce08744b3b674017bc2796ddc",
      "541f7af4da224774906be6c2e92a2ddc",
      "ce56e1bb00184bab8e630dce841b45df",
      "8e417ee615c8468a9c4bd7c45cfd879f",
      "95badfe2037e4af488489cbc2429cc84",
      "2f5c6d0acd964c6cb6c33e72a0361f53",
      "3dc15318cb5e4b79b3ac307326407ec4",
      "6d8b3c23549b4ca78cd8d72c1c10ff53",
      "74411a11227a449093e11800d9d9ff1b"
     ]
    },
    "id": "_n4qsMdTMjug",
    "outputId": "07cfefad-db3e-48f4-b2c7-d0762e1034f7"
   },
   "outputs": [
    {
     "data": {
      "application/vnd.jupyter.widget-view+json": {
       "model_id": "44eeb95e019b44ef9498e3b5e1d4d4c6",
       "version_major": 2,
       "version_minor": 0
      },
      "text/plain": [
       "tokenizer_config.json:   0%|          | 0.00/49.0 [00:00<?, ?B/s]"
      ]
     },
     "metadata": {},
     "output_type": "display_data"
    },
    {
     "data": {
      "application/vnd.jupyter.widget-view+json": {
       "model_id": "7be6c0c5aad04e53a85716fa6dd8a532",
       "version_major": 2,
       "version_minor": 0
      },
      "text/plain": [
       "config.json:   0%|          | 0.00/570 [00:00<?, ?B/s]"
      ]
     },
     "metadata": {},
     "output_type": "display_data"
    },
    {
     "data": {
      "application/vnd.jupyter.widget-view+json": {
       "model_id": "4ee177a220cd47999fb6b80d1a2cc764",
       "version_major": 2,
       "version_minor": 0
      },
      "text/plain": [
       "vocab.txt:   0%|          | 0.00/213k [00:00<?, ?B/s]"
      ]
     },
     "metadata": {},
     "output_type": "display_data"
    },
    {
     "data": {
      "application/vnd.jupyter.widget-view+json": {
       "model_id": "2cf1874dd3d94a33b99fbeaad55303b8",
       "version_major": 2,
       "version_minor": 0
      },
      "text/plain": [
       "tokenizer.json:   0%|          | 0.00/436k [00:00<?, ?B/s]"
      ]
     },
     "metadata": {},
     "output_type": "display_data"
    },
    {
     "name": "stdout",
     "output_type": "stream",
     "text": [
      "\u001b[0;30;48;2;102;194;165m[CLS]\u001b[0m \u001b[0;30;48;2;252;141;98mEnglish\u001b[0m \u001b[0;30;48;2;141;160;203mand\u001b[0m \u001b[0;30;48;2;231;138;195mCA\u001b[0m \u001b[0;30;48;2;166;216;84m##PI\u001b[0m \u001b[0;30;48;2;255;217;47m##TA\u001b[0m \u001b[0;30;48;2;102;194;165m##L\u001b[0m \u001b[0;30;48;2;252;141;98m##I\u001b[0m \u001b[0;30;48;2;141;160;203m##Z\u001b[0m \u001b[0;30;48;2;231;138;195m##AT\u001b[0m \u001b[0;30;48;2;166;216;84m##ION\u001b[0m \u001b[0;30;48;2;255;217;47m[UNK]\u001b[0m \u001b[0;30;48;2;102;194;165m[UNK]\u001b[0m \u001b[0;30;48;2;252;141;98mshow\u001b[0m \u001b[0;30;48;2;141;160;203m_\u001b[0m \u001b[0;30;48;2;231;138;195mtoken\u001b[0m \u001b[0;30;48;2;166;216;84m##s\u001b[0m \u001b[0;30;48;2;255;217;47mF\u001b[0m \u001b[0;30;48;2;102;194;165m##als\u001b[0m \u001b[0;30;48;2;252;141;98m##e\u001b[0m \u001b[0;30;48;2;141;160;203mNone\u001b[0m \u001b[0;30;48;2;231;138;195mel\u001b[0m \u001b[0;30;48;2;166;216;84m##if\u001b[0m \u001b[0;30;48;2;255;217;47m=\u001b[0m \u001b[0;30;48;2;102;194;165m=\u001b[0m \u001b[0;30;48;2;252;141;98m>\u001b[0m \u001b[0;30;48;2;141;160;203m=\u001b[0m \u001b[0;30;48;2;231;138;195melse\u001b[0m \u001b[0;30;48;2;166;216;84m:\u001b[0m \u001b[0;30;48;2;255;217;47mtwo\u001b[0m \u001b[0;30;48;2;102;194;165mta\u001b[0m \u001b[0;30;48;2;252;141;98m##bs\u001b[0m \u001b[0;30;48;2;141;160;203m:\u001b[0m \u001b[0;30;48;2;231;138;195m\"\u001b[0m \u001b[0;30;48;2;166;216;84m\"\u001b[0m \u001b[0;30;48;2;255;217;47mThree\u001b[0m \u001b[0;30;48;2;102;194;165mta\u001b[0m \u001b[0;30;48;2;252;141;98m##bs\u001b[0m \u001b[0;30;48;2;141;160;203m:\u001b[0m \u001b[0;30;48;2;231;138;195m\"\u001b[0m \u001b[0;30;48;2;166;216;84m\"\u001b[0m \u001b[0;30;48;2;255;217;47m12\u001b[0m \u001b[0;30;48;2;102;194;165m.\u001b[0m \u001b[0;30;48;2;252;141;98m0\u001b[0m \u001b[0;30;48;2;141;160;203m*\u001b[0m \u001b[0;30;48;2;231;138;195m50\u001b[0m \u001b[0;30;48;2;166;216;84m=\u001b[0m \u001b[0;30;48;2;255;217;47m600\u001b[0m \u001b[0;30;48;2;102;194;165m[SEP]\u001b[0m "
     ]
    }
   ],
   "source": [
    "show_tokens(text, \"bert-base-cased\")"
   ]
  },
  {
   "cell_type": "markdown",
   "metadata": {
    "id": "W6x4aeypZ5Ee"
   },
   "source": [
    "### Word Embeddings"
   ]
  },
  {
   "cell_type": "code",
   "execution_count": null,
   "metadata": {
    "colab": {
     "base_uri": "https://localhost:8080/",
     "height": 336,
     "referenced_widgets": [
      "78e802d7957048b79e1808dbbc40d59b",
      "0b0802a4e1644789b5572ae04ae2bb27",
      "45a629f177ef47949ac526ca43cab2c7",
      "833341aedf944882996c12d2d11addf6",
      "27123702da1d468d9b9901abe1d6826d",
      "1fb7b0ae045a46d98e1386c898312181",
      "fb235589a0bb43809ccbe3f4e02dd460",
      "f8b36ed0b8e846e2b029bc65a4586eab",
      "8f63c64ff6f4448985da87f5446989c8",
      "0c6485860a4f41c68278038492693a4f",
      "52c714e2b5094a7fba3cf6f5f3cd671f",
      "bbe244968125480c800491bca7ccbf5a",
      "d3b454db23a74e4ebeb5af27bcf6e652",
      "8b1e20d976774c96b85a56b7d6aa092e",
      "3fd60ddfba7f433d954ce2e4d185cb3c",
      "104fa47d66d04680a3981162c692fd18",
      "624683c9addf4a62a165c6b6badbf2d0",
      "2093e54ce75d4867aa9a58a27b5f6b12",
      "4d35018cb7e14a65ab4ec0bec6c444d9",
      "269aca0448064da6b5ad63944af24e3e",
      "5304126d567742da87660d11b6076845",
      "2f14b3355b2e4f6c85e1e2509e740e7b",
      "26bc32fb15cb485a9c4ff164ce80695b",
      "a5d8b0a64ed74568893123e825af373e",
      "475899aa60544d0389e2eac8765ad5b8",
      "354333aaeee54228a54fd9e4a040e275",
      "282abb9df1304bb182c1a06d39c6717d",
      "ba46e0d1268048e980e6b3b190f34bba",
      "6341694d592c4efcb6f815b4e0b73cd4",
      "4a5ef1ef150546b489e67a2b55c8489a",
      "16f09c8f3bd54bc7841ddc34b6adcb22",
      "bfcd2c59344b4e54a308c7339121f8db",
      "64f292cca35044a08392f9767a7965bd",
      "50d803ddfec144eeab8f5102cf2f6339",
      "f313cab392f441f587493799e90951ab",
      "e19c956c011b405e964c26ba12faeb4a",
      "24273acf33fb48109efc384bc6b32c99",
      "77d1acebb4024d7b82b035d285657be2",
      "074fc92359544ed0a2094c02d152f079",
      "aa6b356311574078950c50a03cf54804",
      "abbdf6171ecc4da5bfea4c51b4158f65",
      "ddcae234d313402186a6810b45a3c15c",
      "5d254c99537e49c888dd745bbd90f93d",
      "e332361792894f33b697519e2781b49c",
      "58d805286b274598ab5f918e6278b4c8",
      "e060ddc3f731485e841d5b9fb0a29e75",
      "89c1720872414a81b6d719de0348dabb",
      "f1fb287da27746f19cb314e28952efa4",
      "39513ae81f23493e8359661578427585",
      "dff42a2659cc464ba8f5ff37f58c9e38",
      "fdd1289d66a04bf6b045bd6477579111",
      "9373297c2d684a47b87ef0c4afe00a8d",
      "13f0f85977dc4524a928b5422ef69b19",
      "0eebfed62f1e47e7908fc4e0879e0b27",
      "f6d5ff118120438a92b38fb299e81dcc",
      "999153c8143e4527bf4d8be373e56800",
      "6614ce5408e24735b6e5fdb667c54d66",
      "b8408c6fb63c44c182021eb7503ea681",
      "09febaea4c6d4227add7e325a9b79aa0",
      "b90b0dd7241e45c18edde8eda5e177d1",
      "9722bea7c8a84b59a1f59947a5faaef8",
      "045728ba77c24b6cb9684be9a2130a25",
      "ce62b6592877454c9617311bbc9c5e5a",
      "28e67da39cc94ac992b6efd0d85316d4",
      "7d3f512673b6437989ada2b67ae17621",
      "9fdd81ed48ee4adaa382e0a86b216af7"
     ]
    },
    "id": "peOJXXq9MmwA",
    "outputId": "cd33cba7-40ee-41ea-80cd-28fb19139dda"
   },
   "outputs": [
    {
     "name": "stderr",
     "output_type": "stream",
     "text": [
      "/usr/local/lib/python3.11/dist-packages/huggingface_hub/utils/_auth.py:94: UserWarning: \n",
      "The secret `HF_TOKEN` does not exist in your Colab secrets.\n",
      "To authenticate with the Hugging Face Hub, create a token in your settings tab (https://huggingface.co/settings/tokens), set it as secret in your Google Colab and restart your session.\n",
      "You will be able to reuse this secret in all of your notebooks.\n",
      "Please note that authentication is recommended but still optional to access public models or datasets.\n",
      "  warnings.warn(\n"
     ]
    },
    {
     "data": {
      "application/vnd.jupyter.widget-view+json": {
       "model_id": "78e802d7957048b79e1808dbbc40d59b",
       "version_major": 2,
       "version_minor": 0
      },
      "text/plain": [
       "tokenizer_config.json:   0%|          | 0.00/52.0 [00:00<?, ?B/s]"
      ]
     },
     "metadata": {},
     "output_type": "display_data"
    },
    {
     "data": {
      "application/vnd.jupyter.widget-view+json": {
       "model_id": "bbe244968125480c800491bca7ccbf5a",
       "version_major": 2,
       "version_minor": 0
      },
      "text/plain": [
       "config.json:   0%|          | 0.00/474 [00:00<?, ?B/s]"
      ]
     },
     "metadata": {},
     "output_type": "display_data"
    },
    {
     "data": {
      "application/vnd.jupyter.widget-view+json": {
       "model_id": "26bc32fb15cb485a9c4ff164ce80695b",
       "version_major": 2,
       "version_minor": 0
      },
      "text/plain": [
       "vocab.json:   0%|          | 0.00/899k [00:00<?, ?B/s]"
      ]
     },
     "metadata": {},
     "output_type": "display_data"
    },
    {
     "data": {
      "application/vnd.jupyter.widget-view+json": {
       "model_id": "50d803ddfec144eeab8f5102cf2f6339",
       "version_major": 2,
       "version_minor": 0
      },
      "text/plain": [
       "merges.txt:   0%|          | 0.00/456k [00:00<?, ?B/s]"
      ]
     },
     "metadata": {},
     "output_type": "display_data"
    },
    {
     "data": {
      "application/vnd.jupyter.widget-view+json": {
       "model_id": "58d805286b274598ab5f918e6278b4c8",
       "version_major": 2,
       "version_minor": 0
      },
      "text/plain": [
       "config.json:   0%|          | 0.00/578 [00:00<?, ?B/s]"
      ]
     },
     "metadata": {},
     "output_type": "display_data"
    },
    {
     "data": {
      "application/vnd.jupyter.widget-view+json": {
       "model_id": "999153c8143e4527bf4d8be373e56800",
       "version_major": 2,
       "version_minor": 0
      },
      "text/plain": [
       "pytorch_model.bin:   0%|          | 0.00/241M [00:00<?, ?B/s]"
      ]
     },
     "metadata": {},
     "output_type": "display_data"
    }
   ],
   "source": [
    "from transformers import AutoModel, AutoTokenizer\n",
    "\n",
    "# Load a tokenizer\n",
    "tokenizer = AutoTokenizer.from_pretrained(\"microsoft/deberta-base\")\n",
    "\n",
    "# Load a language model\n",
    "model = AutoModel.from_pretrained(\"microsoft/deberta-v3-xsmall\")\n",
    "\n",
    "# Tokenize the sentence\n",
    "tokens = tokenizer('Hello world', return_tensors='pt')\n",
    "\n",
    "# Process the tokens\n",
    "output = model(**tokens)[0]"
   ]
  },
  {
   "cell_type": "code",
   "execution_count": null,
   "metadata": {
    "colab": {
     "base_uri": "https://localhost:8080/"
    },
    "id": "5rKWsVtmZ9MU",
    "outputId": "73e203a2-a5e8-467f-b574-2c149e5dc753"
   },
   "outputs": [
    {
     "data": {
      "text/plain": [
       "torch.Size([1, 4, 384])"
      ]
     },
     "execution_count": 2,
     "metadata": {},
     "output_type": "execute_result"
    }
   ],
   "source": [
    "output.shape"
   ]
  },
  {
   "cell_type": "markdown",
   "metadata": {
    "id": "3JO24mA6aww1"
   },
   "source": [
    "Inspect Tokens"
   ]
  },
  {
   "cell_type": "code",
   "execution_count": null,
   "metadata": {
    "colab": {
     "base_uri": "https://localhost:8080/"
    },
    "id": "a8L6QF3UaAbg",
    "outputId": "8c0bfb4c-4174-4ee8-cce5-dcea1b22434a"
   },
   "outputs": [
    {
     "name": "stdout",
     "output_type": "stream",
     "text": [
      "[CLS]\n",
      "Hello\n",
      " world\n",
      "[SEP]\n"
     ]
    }
   ],
   "source": [
    "for token in tokens['input_ids'][0]:\n",
    "    print(tokenizer.decode(token))"
   ]
  },
  {
   "cell_type": "code",
   "execution_count": null,
   "metadata": {
    "colab": {
     "base_uri": "https://localhost:8080/"
    },
    "id": "eTwrp_myaNHS",
    "outputId": "7d4254af-dc1d-4d46-a28d-0804936217a9"
   },
   "outputs": [
    {
     "data": {
      "text/plain": [
       "tensor([[[-3.4816,  0.0861, -0.1819,  ..., -0.0612, -0.3911,  0.3017],\n",
       "         [ 0.1898,  0.3208, -0.2315,  ...,  0.3714,  0.2478,  0.8048],\n",
       "         [ 0.2071,  0.5036, -0.0485,  ...,  1.2175, -0.2292,  0.8582],\n",
       "         [-3.4278,  0.0645, -0.1427,  ...,  0.0658, -0.4367,  0.3834]]],\n",
       "       grad_fn=<NativeLayerNormBackward0>)"
      ]
     },
     "execution_count": 9,
     "metadata": {},
     "output_type": "execute_result"
    }
   ],
   "source": [
    "output"
   ]
  },
  {
   "cell_type": "markdown",
   "metadata": {
    "id": "wAmgCyEvcfp1"
   },
   "source": [
    "#### Sentence Embeddings"
   ]
  },
  {
   "cell_type": "code",
   "execution_count": null,
   "metadata": {
    "colab": {
     "base_uri": "https://localhost:8080/",
     "height": 369,
     "referenced_widgets": [
      "7d8ac2a9af704711aea020d973e5cc97",
      "e1c050b18ed1460ca9c4d727b4629e39",
      "51ac0bbe0c014cceb82edc3362cac2c0",
      "df26697eba2740ffb89eb2201d4ccab7",
      "741e280c8c844d3d9577177145b695c6",
      "faaf297f3d4049c899df87452e78b6f2",
      "1b92778c18114c468f6446143f4083a4",
      "618f8e34b6c841b4bed287bd4eda6eb9",
      "0f6ee53c6eb443fab8e98ab4613a60e2",
      "5920b2031c6b41c1beae06ff98d828da",
      "81125c0d8e8c4d1b83e2c54666f25c0a",
      "4433e17d3ca3481985e51baec2abb483",
      "734f17d1b6a24a729060ae26c5c639e2",
      "9ada9ad3849b4dbfbc575d7b1eb2accd",
      "7067bab77c6b46e89d07c49e2847ec47",
      "0052f1a7983c4867a8b2847f12b958cc",
      "32ec7c30009c4bc58bbc4e8f53610d8a",
      "9ff6ce5942994ea9aaefedc294fce5ed",
      "0b840cecdde747629cc1c639278c13ab",
      "901795b4fb90475faf70f5a68d9cb9c5",
      "51cfb489607c4fb1820aef63b1bb10b1",
      "ba06260cda3246789a4cf0a3d126f51e",
      "cfdbcf28ca5a42ebb92ced3d3ce2e2ab",
      "2040fbf74b7c4ab3894462c90f328a0a",
      "37f2bf69be3e46eda718f0b5a126b052",
      "0db7207e41e64c04ada9f780ed77ed1b",
      "411c4d3e45ae458a930b3db64a410cf9",
      "f1cc04dafa914cb296a24099ccf8717a",
      "f771040842694b0ba3fb32a2fdcf4845",
      "5a24954b6427489389eb85f3a537fced",
      "10b40d6108c341c8b0843d21b13b708c",
      "b8e56862f8864be58eeda47b130620ef",
      "4c3ffa51cfe740cb821361bb0631b9fb",
      "611ae07234294766aab6b24cf5537faf",
      "9551494ee6354d8da4849fa2d6e9b686",
      "693415d302874c639c285868b5e31ca4",
      "b409cbdeccb5425092108b7c99c59cf8",
      "d7c1fb368ee54e8689da8e464c45c346",
      "8afbbf83fead4bb180d4abbd00ab8cc8",
      "9e93d90dee454ad0a3871611121cd1b1",
      "0afc21d5b8114ca398e24725d39545c9",
      "431ef3f9647e4e0fb73aa5372cefb875",
      "13bb445d38b544dfa78b8bc275d84397",
      "811164abcaba4571b3249107c61412b6",
      "7180d4410d6d417bb4d36ab6b8747817",
      "71ecfa96f5bb4d3da9ff123328076d20",
      "699c68c49d754b38916ce9fc6e49c3a3",
      "e57761fe22d94364a9c52e89626858b4",
      "4cf85bd51ed14ad59c36f903b01a070f",
      "46eab2c144e34a6eaddad3eb4910492c",
      "6eb2e23670bc4a0c8befc05f775ec0a8",
      "0ee233aa709c4a17b3200cf0b36442eb",
      "d8b5481f225040e48b932d200bd9facc",
      "5404671fa24f48b0817067fa0c3a2e74",
      "43f090df1710464c9f93b8b73b89af7d",
      "b7c4ef938f7248abb92b1e49b15363f0",
      "a2129356342e419e87c9109e26054fea",
      "f7abb20f9e314d54999c99916dcb645e",
      "0ae7dcf254a9400884ed5995c6de8ed5",
      "2ea6a8abcbb04014bf6b1299863dc93a",
      "406d47470f004533bdb122e4e1580e0b",
      "562043ed856d4eceb9fa229bf4d7824a",
      "9426a988236d4ed5a7c2ba49630913f5",
      "179229fe70b241fcacc066e63d979265",
      "8fd0555c920646049c5bf4283f285e51",
      "9e88f87053c0473694ed830c2554e02a",
      "67e9c2d9e8204f4ca3be080589888a49",
      "0c4048489fb247c998d8f4f729b41640",
      "2035c80c3f164dbf9d64bf17fe8ba8f9",
      "fa97a5ec39ea4cfab20defbaba04b526",
      "8822bd1a87e74fa99c477858e6cf15c6",
      "b42b436c8d8c4e34a0396e5012a4bca3",
      "61714a672f8d466aa8796b5863e5d6da",
      "871326da67a64dda9bc618d1d491e828",
      "f0466399b5a249a49e6e67077b1b1328",
      "8054bb2e9f36435083569669c3d6caf7",
      "9f1f71c5db7043d19d937a00588b7b6c",
      "3db40ae0cd8a411790553ab6371bb78b",
      "a1c3be927b174b3ea3c0546390a186f3",
      "eb1b8f346659483986b83563ddf9ad1d",
      "78d71ab7699d4b329891e3fc26ff92f8",
      "1f157b648c914e5588d6814a844a5880",
      "cfd2064a102347beb1719b35b23739cf",
      "5ca1f502dae34ffd9f34cd4242a2e557",
      "9bbc92a3137e4b7cbeb4aa73128aed93",
      "87e6d909b6174287819770e8f757c406",
      "22f593a006e240f48da0d66f2d252637",
      "5647a3529d1447f58912561c0e9b0008",
      "b75b68f025d64fcfa246e4f2f9ca73a9",
      "baf4dad34b2a45b1ae641d521e882e98",
      "341a08597d9649e69cdd14cfc6d3f76b",
      "dd4917adc7d74800883db91324729199",
      "ce6ba3d687bc44dda72c52fb10071df4",
      "d7d30f8e99a9458882134e543042c254",
      "828fb70cc90a4db29ca51eb7abacdfc2",
      "378d5c663e2a4e1b81e29669b0e3e628",
      "3264dacc400f49608dfc238eb2dc0803",
      "8b02f07dd7b44f8d80fd9e61193ed298",
      "37838d24a210445aaf79475aeefbb8d3",
      "b9398124f75e4ec99c632dd9bffa06d3",
      "f8e8293a1af94d06a7e1fd5b2643cee8",
      "64524a229e3e4799a58205ca4ceb43ac",
      "63ee06cd68ac434a938d249a007a3ca5",
      "dcad9e53976440a6beef2f37671a1847",
      "49bc53dffcda4655997cfbd5b0b6a73d",
      "4f53382f0a544740b3a330d9208e3730",
      "46d5fb2cc7fe4a7796bc717c812bd64c",
      "5fdb5bd0b7ee46baaaf190d74b75f566",
      "c28c9accae6f4f27af284f7beb126819",
      "96a9dc0c74ca4337ac74358d29622699",
      "a1173e0220f94600bddf2b7f5960c940",
      "7aabeb0477ae43839cf603409560a9ff",
      "f5b6116af7e34f39b06b6d6d58baa48e",
      "6a070fa5e36c492b89cd9ef8552ca6a1",
      "75f33a9c82854753991d184b7aaacbdb",
      "e2f4dc9845774ea09247a1a001b17318",
      "639d411d33994c42a8b2b47b8a1a85a3",
      "ac95ac1766284c89a2804f0dbc2f3cc1",
      "eb378a0ab47543eb93a1e607e7c9b117",
      "1422e95a24be4ceb9c326e63f1c5f08b",
      "8c3eb7d5c9a143c9b38ebb45ae18e5d7"
     ]
    },
    "id": "ynnJLPb5amR3",
    "outputId": "2f683a2f-6a57-4598-8d8d-652097255ee2"
   },
   "outputs": [
    {
     "data": {
      "application/vnd.jupyter.widget-view+json": {
       "model_id": "7d8ac2a9af704711aea020d973e5cc97",
       "version_major": 2,
       "version_minor": 0
      },
      "text/plain": [
       "modules.json:   0%|          | 0.00/349 [00:00<?, ?B/s]"
      ]
     },
     "metadata": {},
     "output_type": "display_data"
    },
    {
     "data": {
      "application/vnd.jupyter.widget-view+json": {
       "model_id": "4433e17d3ca3481985e51baec2abb483",
       "version_major": 2,
       "version_minor": 0
      },
      "text/plain": [
       "config_sentence_transformers.json:   0%|          | 0.00/116 [00:00<?, ?B/s]"
      ]
     },
     "metadata": {},
     "output_type": "display_data"
    },
    {
     "data": {
      "application/vnd.jupyter.widget-view+json": {
       "model_id": "cfdbcf28ca5a42ebb92ced3d3ce2e2ab",
       "version_major": 2,
       "version_minor": 0
      },
      "text/plain": [
       "README.md:   0%|          | 0.00/10.4k [00:00<?, ?B/s]"
      ]
     },
     "metadata": {},
     "output_type": "display_data"
    },
    {
     "data": {
      "application/vnd.jupyter.widget-view+json": {
       "model_id": "611ae07234294766aab6b24cf5537faf",
       "version_major": 2,
       "version_minor": 0
      },
      "text/plain": [
       "sentence_bert_config.json:   0%|          | 0.00/53.0 [00:00<?, ?B/s]"
      ]
     },
     "metadata": {},
     "output_type": "display_data"
    },
    {
     "data": {
      "application/vnd.jupyter.widget-view+json": {
       "model_id": "7180d4410d6d417bb4d36ab6b8747817",
       "version_major": 2,
       "version_minor": 0
      },
      "text/plain": [
       "config.json:   0%|          | 0.00/571 [00:00<?, ?B/s]"
      ]
     },
     "metadata": {},
     "output_type": "display_data"
    },
    {
     "data": {
      "application/vnd.jupyter.widget-view+json": {
       "model_id": "b7c4ef938f7248abb92b1e49b15363f0",
       "version_major": 2,
       "version_minor": 0
      },
      "text/plain": [
       "model.safetensors:   0%|          | 0.00/438M [00:00<?, ?B/s]"
      ]
     },
     "metadata": {},
     "output_type": "display_data"
    },
    {
     "data": {
      "application/vnd.jupyter.widget-view+json": {
       "model_id": "67e9c2d9e8204f4ca3be080589888a49",
       "version_major": 2,
       "version_minor": 0
      },
      "text/plain": [
       "tokenizer_config.json:   0%|          | 0.00/363 [00:00<?, ?B/s]"
      ]
     },
     "metadata": {},
     "output_type": "display_data"
    },
    {
     "data": {
      "application/vnd.jupyter.widget-view+json": {
       "model_id": "3db40ae0cd8a411790553ab6371bb78b",
       "version_major": 2,
       "version_minor": 0
      },
      "text/plain": [
       "vocab.txt:   0%|          | 0.00/232k [00:00<?, ?B/s]"
      ]
     },
     "metadata": {},
     "output_type": "display_data"
    },
    {
     "data": {
      "application/vnd.jupyter.widget-view+json": {
       "model_id": "b75b68f025d64fcfa246e4f2f9ca73a9",
       "version_major": 2,
       "version_minor": 0
      },
      "text/plain": [
       "tokenizer.json:   0%|          | 0.00/466k [00:00<?, ?B/s]"
      ]
     },
     "metadata": {},
     "output_type": "display_data"
    },
    {
     "data": {
      "application/vnd.jupyter.widget-view+json": {
       "model_id": "b9398124f75e4ec99c632dd9bffa06d3",
       "version_major": 2,
       "version_minor": 0
      },
      "text/plain": [
       "special_tokens_map.json:   0%|          | 0.00/239 [00:00<?, ?B/s]"
      ]
     },
     "metadata": {},
     "output_type": "display_data"
    },
    {
     "data": {
      "application/vnd.jupyter.widget-view+json": {
       "model_id": "a1173e0220f94600bddf2b7f5960c940",
       "version_major": 2,
       "version_minor": 0
      },
      "text/plain": [
       "config.json:   0%|          | 0.00/190 [00:00<?, ?B/s]"
      ]
     },
     "metadata": {},
     "output_type": "display_data"
    }
   ],
   "source": [
    "from sentence_transformers import SentenceTransformer\n",
    "\n",
    "# Load model\n",
    "model = SentenceTransformer('sentence-transformers/all-mpnet-base-v2')\n",
    "\n",
    "# Convert text to text embeddings\n",
    "vector = model.encode(\"Best movie ever!\")"
   ]
  },
  {
   "cell_type": "code",
   "execution_count": null,
   "metadata": {
    "colab": {
     "base_uri": "https://localhost:8080/"
    },
    "id": "cSqdnnY3ckUb",
    "outputId": "ece6fc77-91dc-460c-9c3b-546488ffcf4c"
   },
   "outputs": [
    {
     "data": {
      "text/plain": [
       "(768,)"
      ]
     },
     "execution_count": 11,
     "metadata": {},
     "output_type": "execute_result"
    }
   ],
   "source": [
    "vector.shape"
   ]
  },
  {
   "cell_type": "markdown",
   "metadata": {
    "id": "lJOC4MzWeW_N"
   },
   "source": [
    "#### Word Embeddings beyond LLMs"
   ]
  },
  {
   "cell_type": "code",
   "execution_count": null,
   "metadata": {
    "id": "XPvJCS6XeejR"
   },
   "outputs": [],
   "source": [
    "%%capture\n",
    "!pip install gensim"
   ]
  },
  {
   "cell_type": "code",
   "execution_count": null,
   "metadata": {
    "colab": {
     "base_uri": "https://localhost:8080/"
    },
    "id": "qZ030KNjcpyf",
    "outputId": "447ecc97-b8cc-465e-a520-5e15c7425954"
   },
   "outputs": [
    {
     "name": "stdout",
     "output_type": "stream",
     "text": [
      "[==================================================] 100.0% 66.0/66.0MB downloaded\n"
     ]
    }
   ],
   "source": [
    "import gensim.downloader as api\n",
    "\n",
    "# Download embeddings (66MB, glove, trained on wikipedia, vector size: 50)\n",
    "# Other options include \"word2vec-google-news-300\"\n",
    "# More options at https://github.com/RaRe-Technologies/gensim-data\n",
    "model = api.load(\"glove-wiki-gigaword-50\")"
   ]
  },
  {
   "cell_type": "code",
   "execution_count": null,
   "metadata": {
    "colab": {
     "base_uri": "https://localhost:8080/"
    },
    "id": "UD8wYSjSeb41",
    "outputId": "9cfa61df-94ed-49e2-9d0a-ba2aec07dcc2"
   },
   "outputs": [
    {
     "data": {
      "text/plain": [
       "[('king', 1.0000001192092896),\n",
       " ('prince', 0.8236179351806641),\n",
       " ('queen', 0.7839043140411377),\n",
       " ('ii', 0.7746230363845825),\n",
       " ('emperor', 0.7736247777938843),\n",
       " ('son', 0.766719400882721),\n",
       " ('uncle', 0.7627150416374207),\n",
       " ('kingdom', 0.7542161345481873),\n",
       " ('throne', 0.7539914846420288),\n",
       " ('brother', 0.7492411136627197),\n",
       " ('ruler', 0.7434253692626953)]"
      ]
     },
     "execution_count": 16,
     "metadata": {},
     "output_type": "execute_result"
    }
   ],
   "source": [
    "model.most_similar([model['king']], topn=11)"
   ]
  },
  {
   "cell_type": "markdown",
   "metadata": {
    "id": "KvRqQz40j0nB"
   },
   "source": [
    "## Training a Song Embedding Model"
   ]
  },
  {
   "cell_type": "code",
   "execution_count": null,
   "metadata": {
    "id": "7cNz1pq7exsB"
   },
   "outputs": [],
   "source": [
    "import pandas as pd\n",
    "from urllib import request\n",
    "\n",
    "# Get the playlist dataset file\n",
    "data = request.urlopen('https://storage.googleapis.com/maps-premium/dataset/yes_complete/train.txt')\n",
    "\n",
    "# Parse the playlist dataset file. Skip the first two lines as\n",
    "# they only contain metadata\n",
    "lines = data.read().decode(\"utf-8\").split('\\n')[2:]"
   ]
  },
  {
   "cell_type": "code",
   "execution_count": null,
   "metadata": {
    "colab": {
     "base_uri": "https://localhost:8080/",
     "height": 89
    },
    "id": "WZZWhMkSj-hS",
    "outputId": "b8b9bc57-df1e-492d-d516-f06299a739bf"
   },
   "outputs": [
    {
     "data": {
      "application/vnd.google.colaboratory.intrinsic+json": {
       "type": "string"
      },
      "text/plain": [
       "'0 1 2 3 4 5 6 7 8 9 10 11 12 13 14 15 16 17 18 19 20 21 22 23 24 25 26 27 28 29 30 31 32 33 34 35 36 37 38 39 40 41 2 42 43 44 45 46 47 48 20 49 8 50 51 52 53 54 55 56 57 25 58 59 60 61 62 3 63 64 65 66 46 47 67 2 48 68 69 70 57 50 71 72 53 73 25 74 59 20 46 75 76 77 59 20 43 '"
      ]
     },
     "execution_count": 21,
     "metadata": {},
     "output_type": "execute_result"
    }
   ],
   "source": [
    "lines[0]"
   ]
  },
  {
   "cell_type": "code",
   "execution_count": null,
   "metadata": {
    "id": "nVs48MJ6j_TR"
   },
   "outputs": [],
   "source": [
    "# Remove playlists with only one song\n",
    "playlists = [s.rstrip().split() for s in lines if len(s.split()) > 1]"
   ]
  },
  {
   "cell_type": "code",
   "execution_count": null,
   "metadata": {
    "id": "dVxji7lCkMY_"
   },
   "outputs": [],
   "source": [
    "# Load song metadata\n",
    "songs_file = request.urlopen('https://storage.googleapis.com/maps-premium/dataset/yes_complete/song_hash.txt')\n",
    "songs_file = songs_file.read().decode(\"utf-8\").split('\\n')\n",
    "songs = [s.rstrip().split('\\t') for s in songs_file]\n",
    "songs_df = pd.DataFrame(data=songs, columns = ['id', 'title', 'artist'])\n",
    "songs_df = songs_df.set_index('id')"
   ]
  },
  {
   "cell_type": "code",
   "execution_count": null,
   "metadata": {
    "colab": {
     "base_uri": "https://localhost:8080/",
     "height": 273
    },
    "id": "iqD1Lpg0kUJj",
    "outputId": "e613ce0e-d149-45a3-902d-cda78fbb1ce3"
   },
   "outputs": [
    {
     "name": "stdout",
     "output_type": "stream",
     "text": [
      "(75263, 2)\n",
      "Index(['title', 'artist'], dtype='object')\n"
     ]
    },
    {
     "data": {
      "application/vnd.google.colaboratory.intrinsic+json": {
       "summary": "{\n  \"name\": \"songs_df\",\n  \"rows\": 75263,\n  \"fields\": [\n    {\n      \"column\": \"id\",\n      \"properties\": {\n        \"dtype\": \"string\",\n        \"num_unique_values\": 75263,\n        \"samples\": [\n          \"20747 \",\n          \"44444 \",\n          \"6994 \"\n        ],\n        \"semantic_type\": \"\",\n        \"description\": \"\"\n      }\n    },\n    {\n      \"column\": \"title\",\n      \"properties\": {\n        \"dtype\": \"string\",\n        \"num_unique_values\": 57507,\n        \"samples\": [\n          \"Two (w\\\\/ Sheryl Crow)\",\n          \"Libera\",\n          \"Tropica\"\n        ],\n        \"semantic_type\": \"\",\n        \"description\": \"\"\n      }\n    },\n    {\n      \"column\": \"artist\",\n      \"properties\": {\n        \"dtype\": \"category\",\n        \"num_unique_values\": 15976,\n        \"samples\": [\n          \"The Hues Corporation\",\n          \"Yes\",\n          \"The Upsidedown\"\n        ],\n        \"semantic_type\": \"\",\n        \"description\": \"\"\n      }\n    }\n  ]\n}",
       "type": "dataframe",
       "variable_name": "songs_df"
      },
      "text/html": [
       "\n",
       "  <div id=\"df-51c7fdc7-c30e-4e30-99e7-eff114923521\" class=\"colab-df-container\">\n",
       "    <div>\n",
       "<style scoped>\n",
       "    .dataframe tbody tr th:only-of-type {\n",
       "        vertical-align: middle;\n",
       "    }\n",
       "\n",
       "    .dataframe tbody tr th {\n",
       "        vertical-align: top;\n",
       "    }\n",
       "\n",
       "    .dataframe thead th {\n",
       "        text-align: right;\n",
       "    }\n",
       "</style>\n",
       "<table border=\"1\" class=\"dataframe\">\n",
       "  <thead>\n",
       "    <tr style=\"text-align: right;\">\n",
       "      <th></th>\n",
       "      <th>title</th>\n",
       "      <th>artist</th>\n",
       "    </tr>\n",
       "    <tr>\n",
       "      <th>id</th>\n",
       "      <th></th>\n",
       "      <th></th>\n",
       "    </tr>\n",
       "  </thead>\n",
       "  <tbody>\n",
       "    <tr>\n",
       "      <th>0</th>\n",
       "      <td>Gucci Time (w\\/ Swizz Beatz)</td>\n",
       "      <td>Gucci Mane</td>\n",
       "    </tr>\n",
       "    <tr>\n",
       "      <th>1</th>\n",
       "      <td>Aston Martin Music (w\\/ Drake &amp; Chrisette Mich...</td>\n",
       "      <td>Rick Ross</td>\n",
       "    </tr>\n",
       "    <tr>\n",
       "      <th>2</th>\n",
       "      <td>Get Back Up (w\\/ Chris Brown)</td>\n",
       "      <td>T.I.</td>\n",
       "    </tr>\n",
       "    <tr>\n",
       "      <th>3</th>\n",
       "      <td>Hot Toddy (w\\/ Jay-Z &amp; Ester Dean)</td>\n",
       "      <td>Usher</td>\n",
       "    </tr>\n",
       "    <tr>\n",
       "      <th>4</th>\n",
       "      <td>Whip My Hair</td>\n",
       "      <td>Willow</td>\n",
       "    </tr>\n",
       "  </tbody>\n",
       "</table>\n",
       "</div>\n",
       "    <div class=\"colab-df-buttons\">\n",
       "\n",
       "  <div class=\"colab-df-container\">\n",
       "    <button class=\"colab-df-convert\" onclick=\"convertToInteractive('df-51c7fdc7-c30e-4e30-99e7-eff114923521')\"\n",
       "            title=\"Convert this dataframe to an interactive table.\"\n",
       "            style=\"display:none;\">\n",
       "\n",
       "  <svg xmlns=\"http://www.w3.org/2000/svg\" height=\"24px\" viewBox=\"0 -960 960 960\">\n",
       "    <path d=\"M120-120v-720h720v720H120Zm60-500h600v-160H180v160Zm220 220h160v-160H400v160Zm0 220h160v-160H400v160ZM180-400h160v-160H180v160Zm440 0h160v-160H620v160ZM180-180h160v-160H180v160Zm440 0h160v-160H620v160Z\"/>\n",
       "  </svg>\n",
       "    </button>\n",
       "\n",
       "  <style>\n",
       "    .colab-df-container {\n",
       "      display:flex;\n",
       "      gap: 12px;\n",
       "    }\n",
       "\n",
       "    .colab-df-convert {\n",
       "      background-color: #E8F0FE;\n",
       "      border: none;\n",
       "      border-radius: 50%;\n",
       "      cursor: pointer;\n",
       "      display: none;\n",
       "      fill: #1967D2;\n",
       "      height: 32px;\n",
       "      padding: 0 0 0 0;\n",
       "      width: 32px;\n",
       "    }\n",
       "\n",
       "    .colab-df-convert:hover {\n",
       "      background-color: #E2EBFA;\n",
       "      box-shadow: 0px 1px 2px rgba(60, 64, 67, 0.3), 0px 1px 3px 1px rgba(60, 64, 67, 0.15);\n",
       "      fill: #174EA6;\n",
       "    }\n",
       "\n",
       "    .colab-df-buttons div {\n",
       "      margin-bottom: 4px;\n",
       "    }\n",
       "\n",
       "    [theme=dark] .colab-df-convert {\n",
       "      background-color: #3B4455;\n",
       "      fill: #D2E3FC;\n",
       "    }\n",
       "\n",
       "    [theme=dark] .colab-df-convert:hover {\n",
       "      background-color: #434B5C;\n",
       "      box-shadow: 0px 1px 3px 1px rgba(0, 0, 0, 0.15);\n",
       "      filter: drop-shadow(0px 1px 2px rgba(0, 0, 0, 0.3));\n",
       "      fill: #FFFFFF;\n",
       "    }\n",
       "  </style>\n",
       "\n",
       "    <script>\n",
       "      const buttonEl =\n",
       "        document.querySelector('#df-51c7fdc7-c30e-4e30-99e7-eff114923521 button.colab-df-convert');\n",
       "      buttonEl.style.display =\n",
       "        google.colab.kernel.accessAllowed ? 'block' : 'none';\n",
       "\n",
       "      async function convertToInteractive(key) {\n",
       "        const element = document.querySelector('#df-51c7fdc7-c30e-4e30-99e7-eff114923521');\n",
       "        const dataTable =\n",
       "          await google.colab.kernel.invokeFunction('convertToInteractive',\n",
       "                                                    [key], {});\n",
       "        if (!dataTable) return;\n",
       "\n",
       "        const docLinkHtml = 'Like what you see? Visit the ' +\n",
       "          '<a target=\"_blank\" href=https://colab.research.google.com/notebooks/data_table.ipynb>data table notebook</a>'\n",
       "          + ' to learn more about interactive tables.';\n",
       "        element.innerHTML = '';\n",
       "        dataTable['output_type'] = 'display_data';\n",
       "        await google.colab.output.renderOutput(dataTable, element);\n",
       "        const docLink = document.createElement('div');\n",
       "        docLink.innerHTML = docLinkHtml;\n",
       "        element.appendChild(docLink);\n",
       "      }\n",
       "    </script>\n",
       "  </div>\n",
       "\n",
       "\n",
       "<div id=\"df-92d17702-d746-408e-82f4-8add3550dcf9\">\n",
       "  <button class=\"colab-df-quickchart\" onclick=\"quickchart('df-92d17702-d746-408e-82f4-8add3550dcf9')\"\n",
       "            title=\"Suggest charts\"\n",
       "            style=\"display:none;\">\n",
       "\n",
       "<svg xmlns=\"http://www.w3.org/2000/svg\" height=\"24px\"viewBox=\"0 0 24 24\"\n",
       "     width=\"24px\">\n",
       "    <g>\n",
       "        <path d=\"M19 3H5c-1.1 0-2 .9-2 2v14c0 1.1.9 2 2 2h14c1.1 0 2-.9 2-2V5c0-1.1-.9-2-2-2zM9 17H7v-7h2v7zm4 0h-2V7h2v10zm4 0h-2v-4h2v4z\"/>\n",
       "    </g>\n",
       "</svg>\n",
       "  </button>\n",
       "\n",
       "<style>\n",
       "  .colab-df-quickchart {\n",
       "      --bg-color: #E8F0FE;\n",
       "      --fill-color: #1967D2;\n",
       "      --hover-bg-color: #E2EBFA;\n",
       "      --hover-fill-color: #174EA6;\n",
       "      --disabled-fill-color: #AAA;\n",
       "      --disabled-bg-color: #DDD;\n",
       "  }\n",
       "\n",
       "  [theme=dark] .colab-df-quickchart {\n",
       "      --bg-color: #3B4455;\n",
       "      --fill-color: #D2E3FC;\n",
       "      --hover-bg-color: #434B5C;\n",
       "      --hover-fill-color: #FFFFFF;\n",
       "      --disabled-bg-color: #3B4455;\n",
       "      --disabled-fill-color: #666;\n",
       "  }\n",
       "\n",
       "  .colab-df-quickchart {\n",
       "    background-color: var(--bg-color);\n",
       "    border: none;\n",
       "    border-radius: 50%;\n",
       "    cursor: pointer;\n",
       "    display: none;\n",
       "    fill: var(--fill-color);\n",
       "    height: 32px;\n",
       "    padding: 0;\n",
       "    width: 32px;\n",
       "  }\n",
       "\n",
       "  .colab-df-quickchart:hover {\n",
       "    background-color: var(--hover-bg-color);\n",
       "    box-shadow: 0 1px 2px rgba(60, 64, 67, 0.3), 0 1px 3px 1px rgba(60, 64, 67, 0.15);\n",
       "    fill: var(--button-hover-fill-color);\n",
       "  }\n",
       "\n",
       "  .colab-df-quickchart-complete:disabled,\n",
       "  .colab-df-quickchart-complete:disabled:hover {\n",
       "    background-color: var(--disabled-bg-color);\n",
       "    fill: var(--disabled-fill-color);\n",
       "    box-shadow: none;\n",
       "  }\n",
       "\n",
       "  .colab-df-spinner {\n",
       "    border: 2px solid var(--fill-color);\n",
       "    border-color: transparent;\n",
       "    border-bottom-color: var(--fill-color);\n",
       "    animation:\n",
       "      spin 1s steps(1) infinite;\n",
       "  }\n",
       "\n",
       "  @keyframes spin {\n",
       "    0% {\n",
       "      border-color: transparent;\n",
       "      border-bottom-color: var(--fill-color);\n",
       "      border-left-color: var(--fill-color);\n",
       "    }\n",
       "    20% {\n",
       "      border-color: transparent;\n",
       "      border-left-color: var(--fill-color);\n",
       "      border-top-color: var(--fill-color);\n",
       "    }\n",
       "    30% {\n",
       "      border-color: transparent;\n",
       "      border-left-color: var(--fill-color);\n",
       "      border-top-color: var(--fill-color);\n",
       "      border-right-color: var(--fill-color);\n",
       "    }\n",
       "    40% {\n",
       "      border-color: transparent;\n",
       "      border-right-color: var(--fill-color);\n",
       "      border-top-color: var(--fill-color);\n",
       "    }\n",
       "    60% {\n",
       "      border-color: transparent;\n",
       "      border-right-color: var(--fill-color);\n",
       "    }\n",
       "    80% {\n",
       "      border-color: transparent;\n",
       "      border-right-color: var(--fill-color);\n",
       "      border-bottom-color: var(--fill-color);\n",
       "    }\n",
       "    90% {\n",
       "      border-color: transparent;\n",
       "      border-bottom-color: var(--fill-color);\n",
       "    }\n",
       "  }\n",
       "</style>\n",
       "\n",
       "  <script>\n",
       "    async function quickchart(key) {\n",
       "      const quickchartButtonEl =\n",
       "        document.querySelector('#' + key + ' button');\n",
       "      quickchartButtonEl.disabled = true;  // To prevent multiple clicks.\n",
       "      quickchartButtonEl.classList.add('colab-df-spinner');\n",
       "      try {\n",
       "        const charts = await google.colab.kernel.invokeFunction(\n",
       "            'suggestCharts', [key], {});\n",
       "      } catch (error) {\n",
       "        console.error('Error during call to suggestCharts:', error);\n",
       "      }\n",
       "      quickchartButtonEl.classList.remove('colab-df-spinner');\n",
       "      quickchartButtonEl.classList.add('colab-df-quickchart-complete');\n",
       "    }\n",
       "    (() => {\n",
       "      let quickchartButtonEl =\n",
       "        document.querySelector('#df-92d17702-d746-408e-82f4-8add3550dcf9 button');\n",
       "      quickchartButtonEl.style.display =\n",
       "        google.colab.kernel.accessAllowed ? 'block' : 'none';\n",
       "    })();\n",
       "  </script>\n",
       "</div>\n",
       "\n",
       "    </div>\n",
       "  </div>\n"
      ],
      "text/plain": [
       "                                                title      artist\n",
       "id                                                               \n",
       "0                        Gucci Time (w\\/ Swizz Beatz)  Gucci Mane\n",
       "1   Aston Martin Music (w\\/ Drake & Chrisette Mich...   Rick Ross\n",
       "2                       Get Back Up (w\\/ Chris Brown)        T.I.\n",
       "3                  Hot Toddy (w\\/ Jay-Z & Ester Dean)       Usher\n",
       "4                                        Whip My Hair      Willow"
      ]
     },
     "execution_count": 24,
     "metadata": {},
     "output_type": "execute_result"
    }
   ],
   "source": [
    "print(songs_df.shape)\n",
    "print(songs_df.columns)\n",
    "songs_df.head()"
   ]
  },
  {
   "cell_type": "code",
   "execution_count": null,
   "metadata": {
    "colab": {
     "base_uri": "https://localhost:8080/"
    },
    "id": "QUH1hWQ2kclN",
    "outputId": "90552e62-e5b6-4281-e71c-516d1d38279d"
   },
   "outputs": [
    {
     "name": "stdout",
     "output_type": "stream",
     "text": [
      "Playlist #1:\n",
      "  ['0', '1', '2', '3', '4', '5', '6', '7', '8', '9', '10', '11', '12', '13', '14', '15', '16', '17', '18', '19', '20', '21', '22', '23', '24', '25', '26', '27', '28', '29', '30', '31', '32', '33', '34', '35', '36', '37', '38', '39', '40', '41', '2', '42', '43', '44', '45', '46', '47', '48', '20', '49', '8', '50', '51', '52', '53', '54', '55', '56', '57', '25', '58', '59', '60', '61', '62', '3', '63', '64', '65', '66', '46', '47', '67', '2', '48', '68', '69', '70', '57', '50', '71', '72', '53', '73', '25', '74', '59', '20', '46', '75', '76', '77', '59', '20', '43'] \n",
      "\n",
      "Playlist #2:\n",
      "  ['78', '79', '80', '3', '62', '81', '14', '82', '48', '83', '84', '17', '85', '86', '87', '88', '74', '89', '90', '91', '4', '73', '62', '92', '17', '53', '59', '93', '94', '51', '50', '27', '95', '48', '96', '97', '98', '99', '100', '57', '101', '102', '25', '103', '3', '104', '105', '106', '107', '47', '108', '109', '110', '111', '112', '113', '25', '63', '62', '114', '115', '84', '116', '117', '118', '119', '120', '121', '122', '123', '50', '70', '71', '124', '17', '85', '14', '82', '48', '125', '47', '46', '72', '53', '25', '73', '4', '126', '59', '74', '20', '43', '127', '128', '129', '13', '82', '48', '130', '131', '132', '133', '134', '135', '136', '137', '59', '46', '138', '43', '20', '139', '140', '73', '57', '70', '141', '3', '1', '74', '142', '143', '144', '145', '48', '13', '25', '146', '50', '147', '126', '59', '20', '148', '149', '150', '151', '152', '56', '153', '154', '155', '156', '157', '158', '159', '160', '161', '162', '163', '164', '165', '166', '167', '168', '169', '170', '171', '172', '173', '174', '175', '60', '176', '51', '177', '178', '179', '180', '181', '182', '183', '184', '185', '57', '186', '187', '188', '189', '190', '191', '46', '192', '193', '194', '195', '196', '197', '198', '25', '199', '200', '49', '201', '100', '202', '203', '204', '205', '206', '207', '32', '208', '209', '210']\n"
     ]
    }
   ],
   "source": [
    "print( 'Playlist #1:\\n ', playlists[0], '\\n')\n",
    "print( 'Playlist #2:\\n ', playlists[1])"
   ]
  },
  {
   "cell_type": "code",
   "execution_count": null,
   "metadata": {
    "colab": {
     "base_uri": "https://localhost:8080/"
    },
    "id": "oBoQ4iMWkiks",
    "outputId": "6bf73b65-fd92-4ca5-e2fc-3c4471220816"
   },
   "outputs": [
    {
     "data": {
      "text/plain": [
       "[title     Gucci Time (w\\/ Swizz Beatz)\n",
       " artist                      Gucci Mane\n",
       " Name: 0 , dtype: object,\n",
       " title     Aston Martin Music (w\\/ Drake & Chrisette Mich...\n",
       " artist                                            Rick Ross\n",
       " Name: 1 , dtype: object,\n",
       " title     Get Back Up (w\\/ Chris Brown)\n",
       " artist                             T.I.\n",
       " Name: 2 , dtype: object,\n",
       " title     Hot Toddy (w\\/ Jay-Z & Ester Dean)\n",
       " artist                                 Usher\n",
       " Name: 3 , dtype: object,\n",
       " title     Whip My Hair\n",
       " artist          Willow\n",
       " Name: 4 , dtype: object]"
      ]
     },
     "execution_count": 30,
     "metadata": {},
     "output_type": "execute_result"
    }
   ],
   "source": [
    "# print songs in playlist 1\n",
    "[songs_df.iloc[int(i)] for i in playlists[0][:5]]"
   ]
  },
  {
   "cell_type": "code",
   "execution_count": null,
   "metadata": {
    "id": "hTGBmmIAkpiY"
   },
   "outputs": [],
   "source": [
    "from gensim.models import Word2Vec\n",
    "\n",
    "# Train our Word2Vec model\n",
    "model = Word2Vec(\n",
    "    playlists, vector_size=32, window=20, negative=50, min_count=1, workers=4\n",
    ")"
   ]
  },
  {
   "cell_type": "code",
   "execution_count": null,
   "metadata": {
    "colab": {
     "base_uri": "https://localhost:8080/"
    },
    "id": "0LMZ5UidlH44",
    "outputId": "879766dc-35e8-4404-8069-77bc0c93b9e2"
   },
   "outputs": [
    {
     "data": {
      "text/plain": [
       "<gensim.models.word2vec.Word2Vec at 0x7df37f1dd6d0>"
      ]
     },
     "execution_count": 32,
     "metadata": {},
     "output_type": "execute_result"
    }
   ],
   "source": [
    "model"
   ]
  },
  {
   "cell_type": "code",
   "execution_count": null,
   "metadata": {
    "colab": {
     "base_uri": "https://localhost:8080/"
    },
    "id": "gKquXzhilOfl",
    "outputId": "05b3ef7a-a41d-46b2-8a29-817cf4226191"
   },
   "outputs": [
    {
     "data": {
      "text/plain": [
       "[('1922', 0.9973748326301575),\n",
       " ('5586', 0.9971884489059448),\n",
       " ('11517', 0.9970319867134094),\n",
       " ('1954', 0.9969566464424133),\n",
       " ('2014', 0.9969520568847656),\n",
       " ('6624', 0.9966174364089966),\n",
       " ('6626', 0.9964560270309448),\n",
       " ('11473', 0.9963101744651794),\n",
       " ('2849', 0.9959792494773865),\n",
       " ('3167', 0.9957534670829773)]"
      ]
     },
     "execution_count": 33,
     "metadata": {},
     "output_type": "execute_result"
    }
   ],
   "source": [
    "song_id = 2172\n",
    "\n",
    "# Ask the model for songs similar to song #2172\n",
    "model.wv.most_similar(positive=str(song_id))"
   ]
  },
  {
   "cell_type": "code",
   "execution_count": null,
   "metadata": {
    "colab": {
     "base_uri": "https://localhost:8080/"
    },
    "id": "nwd4aGqalPD4",
    "outputId": "aac721a1-53ba-4383-b4e4-af7685349b04"
   },
   "outputs": [
    {
     "name": "stdout",
     "output_type": "stream",
     "text": [
      "title     Fade To Black\n",
      "artist        Metallica\n",
      "Name: 2172 , dtype: object\n"
     ]
    }
   ],
   "source": [
    "print(songs_df.iloc[2172])"
   ]
  },
  {
   "cell_type": "code",
   "execution_count": null,
   "metadata": {
    "colab": {
     "base_uri": "https://localhost:8080/",
     "height": 238
    },
    "id": "jIH48kgglSAh",
    "outputId": "618bd40e-7924-410f-d1bd-3e9f67a5f8bc"
   },
   "outputs": [
    {
     "data": {
      "application/vnd.google.colaboratory.intrinsic+json": {
       "summary": "{\n  \"name\": \"print_recommendations(2172)\",\n  \"rows\": 5,\n  \"fields\": [\n    {\n      \"column\": \"id\",\n      \"properties\": {\n        \"dtype\": \"string\",\n        \"num_unique_values\": 5,\n        \"samples\": [\n          \"5586 \",\n          \"2014 \",\n          \"11517 \"\n        ],\n        \"semantic_type\": \"\",\n        \"description\": \"\"\n      }\n    },\n    {\n      \"column\": \"title\",\n      \"properties\": {\n        \"dtype\": \"string\",\n        \"num_unique_values\": 5,\n        \"samples\": [\n          \"The Last In Line\",\n          \"Youth Gone Wild\",\n          \"Mary Had A Little Lamb\"\n        ],\n        \"semantic_type\": \"\",\n        \"description\": \"\"\n      }\n    },\n    {\n      \"column\": \"artist\",\n      \"properties\": {\n        \"dtype\": \"string\",\n        \"num_unique_values\": 5,\n        \"samples\": [\n          \"Dio\",\n          \"Skid Row\",\n          \"Stevie Ray Vaughan & Double Trouble\"\n        ],\n        \"semantic_type\": \"\",\n        \"description\": \"\"\n      }\n    }\n  ]\n}",
       "type": "dataframe"
      },
      "text/html": [
       "\n",
       "  <div id=\"df-56007247-3d43-4675-a5ed-464f418fa0fb\" class=\"colab-df-container\">\n",
       "    <div>\n",
       "<style scoped>\n",
       "    .dataframe tbody tr th:only-of-type {\n",
       "        vertical-align: middle;\n",
       "    }\n",
       "\n",
       "    .dataframe tbody tr th {\n",
       "        vertical-align: top;\n",
       "    }\n",
       "\n",
       "    .dataframe thead th {\n",
       "        text-align: right;\n",
       "    }\n",
       "</style>\n",
       "<table border=\"1\" class=\"dataframe\">\n",
       "  <thead>\n",
       "    <tr style=\"text-align: right;\">\n",
       "      <th></th>\n",
       "      <th>title</th>\n",
       "      <th>artist</th>\n",
       "    </tr>\n",
       "    <tr>\n",
       "      <th>id</th>\n",
       "      <th></th>\n",
       "      <th></th>\n",
       "    </tr>\n",
       "  </thead>\n",
       "  <tbody>\n",
       "    <tr>\n",
       "      <th>1922</th>\n",
       "      <td>One</td>\n",
       "      <td>Metallica</td>\n",
       "    </tr>\n",
       "    <tr>\n",
       "      <th>5586</th>\n",
       "      <td>The Last In Line</td>\n",
       "      <td>Dio</td>\n",
       "    </tr>\n",
       "    <tr>\n",
       "      <th>11517</th>\n",
       "      <td>Mary Had A Little Lamb</td>\n",
       "      <td>Stevie Ray Vaughan &amp; Double Trouble</td>\n",
       "    </tr>\n",
       "    <tr>\n",
       "      <th>1954</th>\n",
       "      <td>The Number Of The Beast</td>\n",
       "      <td>Iron Maiden</td>\n",
       "    </tr>\n",
       "    <tr>\n",
       "      <th>2014</th>\n",
       "      <td>Youth Gone Wild</td>\n",
       "      <td>Skid Row</td>\n",
       "    </tr>\n",
       "  </tbody>\n",
       "</table>\n",
       "</div>\n",
       "    <div class=\"colab-df-buttons\">\n",
       "\n",
       "  <div class=\"colab-df-container\">\n",
       "    <button class=\"colab-df-convert\" onclick=\"convertToInteractive('df-56007247-3d43-4675-a5ed-464f418fa0fb')\"\n",
       "            title=\"Convert this dataframe to an interactive table.\"\n",
       "            style=\"display:none;\">\n",
       "\n",
       "  <svg xmlns=\"http://www.w3.org/2000/svg\" height=\"24px\" viewBox=\"0 -960 960 960\">\n",
       "    <path d=\"M120-120v-720h720v720H120Zm60-500h600v-160H180v160Zm220 220h160v-160H400v160Zm0 220h160v-160H400v160ZM180-400h160v-160H180v160Zm440 0h160v-160H620v160ZM180-180h160v-160H180v160Zm440 0h160v-160H620v160Z\"/>\n",
       "  </svg>\n",
       "    </button>\n",
       "\n",
       "  <style>\n",
       "    .colab-df-container {\n",
       "      display:flex;\n",
       "      gap: 12px;\n",
       "    }\n",
       "\n",
       "    .colab-df-convert {\n",
       "      background-color: #E8F0FE;\n",
       "      border: none;\n",
       "      border-radius: 50%;\n",
       "      cursor: pointer;\n",
       "      display: none;\n",
       "      fill: #1967D2;\n",
       "      height: 32px;\n",
       "      padding: 0 0 0 0;\n",
       "      width: 32px;\n",
       "    }\n",
       "\n",
       "    .colab-df-convert:hover {\n",
       "      background-color: #E2EBFA;\n",
       "      box-shadow: 0px 1px 2px rgba(60, 64, 67, 0.3), 0px 1px 3px 1px rgba(60, 64, 67, 0.15);\n",
       "      fill: #174EA6;\n",
       "    }\n",
       "\n",
       "    .colab-df-buttons div {\n",
       "      margin-bottom: 4px;\n",
       "    }\n",
       "\n",
       "    [theme=dark] .colab-df-convert {\n",
       "      background-color: #3B4455;\n",
       "      fill: #D2E3FC;\n",
       "    }\n",
       "\n",
       "    [theme=dark] .colab-df-convert:hover {\n",
       "      background-color: #434B5C;\n",
       "      box-shadow: 0px 1px 3px 1px rgba(0, 0, 0, 0.15);\n",
       "      filter: drop-shadow(0px 1px 2px rgba(0, 0, 0, 0.3));\n",
       "      fill: #FFFFFF;\n",
       "    }\n",
       "  </style>\n",
       "\n",
       "    <script>\n",
       "      const buttonEl =\n",
       "        document.querySelector('#df-56007247-3d43-4675-a5ed-464f418fa0fb button.colab-df-convert');\n",
       "      buttonEl.style.display =\n",
       "        google.colab.kernel.accessAllowed ? 'block' : 'none';\n",
       "\n",
       "      async function convertToInteractive(key) {\n",
       "        const element = document.querySelector('#df-56007247-3d43-4675-a5ed-464f418fa0fb');\n",
       "        const dataTable =\n",
       "          await google.colab.kernel.invokeFunction('convertToInteractive',\n",
       "                                                    [key], {});\n",
       "        if (!dataTable) return;\n",
       "\n",
       "        const docLinkHtml = 'Like what you see? Visit the ' +\n",
       "          '<a target=\"_blank\" href=https://colab.research.google.com/notebooks/data_table.ipynb>data table notebook</a>'\n",
       "          + ' to learn more about interactive tables.';\n",
       "        element.innerHTML = '';\n",
       "        dataTable['output_type'] = 'display_data';\n",
       "        await google.colab.output.renderOutput(dataTable, element);\n",
       "        const docLink = document.createElement('div');\n",
       "        docLink.innerHTML = docLinkHtml;\n",
       "        element.appendChild(docLink);\n",
       "      }\n",
       "    </script>\n",
       "  </div>\n",
       "\n",
       "\n",
       "<div id=\"df-033a465c-f28c-40b7-a706-09b1cf28c485\">\n",
       "  <button class=\"colab-df-quickchart\" onclick=\"quickchart('df-033a465c-f28c-40b7-a706-09b1cf28c485')\"\n",
       "            title=\"Suggest charts\"\n",
       "            style=\"display:none;\">\n",
       "\n",
       "<svg xmlns=\"http://www.w3.org/2000/svg\" height=\"24px\"viewBox=\"0 0 24 24\"\n",
       "     width=\"24px\">\n",
       "    <g>\n",
       "        <path d=\"M19 3H5c-1.1 0-2 .9-2 2v14c0 1.1.9 2 2 2h14c1.1 0 2-.9 2-2V5c0-1.1-.9-2-2-2zM9 17H7v-7h2v7zm4 0h-2V7h2v10zm4 0h-2v-4h2v4z\"/>\n",
       "    </g>\n",
       "</svg>\n",
       "  </button>\n",
       "\n",
       "<style>\n",
       "  .colab-df-quickchart {\n",
       "      --bg-color: #E8F0FE;\n",
       "      --fill-color: #1967D2;\n",
       "      --hover-bg-color: #E2EBFA;\n",
       "      --hover-fill-color: #174EA6;\n",
       "      --disabled-fill-color: #AAA;\n",
       "      --disabled-bg-color: #DDD;\n",
       "  }\n",
       "\n",
       "  [theme=dark] .colab-df-quickchart {\n",
       "      --bg-color: #3B4455;\n",
       "      --fill-color: #D2E3FC;\n",
       "      --hover-bg-color: #434B5C;\n",
       "      --hover-fill-color: #FFFFFF;\n",
       "      --disabled-bg-color: #3B4455;\n",
       "      --disabled-fill-color: #666;\n",
       "  }\n",
       "\n",
       "  .colab-df-quickchart {\n",
       "    background-color: var(--bg-color);\n",
       "    border: none;\n",
       "    border-radius: 50%;\n",
       "    cursor: pointer;\n",
       "    display: none;\n",
       "    fill: var(--fill-color);\n",
       "    height: 32px;\n",
       "    padding: 0;\n",
       "    width: 32px;\n",
       "  }\n",
       "\n",
       "  .colab-df-quickchart:hover {\n",
       "    background-color: var(--hover-bg-color);\n",
       "    box-shadow: 0 1px 2px rgba(60, 64, 67, 0.3), 0 1px 3px 1px rgba(60, 64, 67, 0.15);\n",
       "    fill: var(--button-hover-fill-color);\n",
       "  }\n",
       "\n",
       "  .colab-df-quickchart-complete:disabled,\n",
       "  .colab-df-quickchart-complete:disabled:hover {\n",
       "    background-color: var(--disabled-bg-color);\n",
       "    fill: var(--disabled-fill-color);\n",
       "    box-shadow: none;\n",
       "  }\n",
       "\n",
       "  .colab-df-spinner {\n",
       "    border: 2px solid var(--fill-color);\n",
       "    border-color: transparent;\n",
       "    border-bottom-color: var(--fill-color);\n",
       "    animation:\n",
       "      spin 1s steps(1) infinite;\n",
       "  }\n",
       "\n",
       "  @keyframes spin {\n",
       "    0% {\n",
       "      border-color: transparent;\n",
       "      border-bottom-color: var(--fill-color);\n",
       "      border-left-color: var(--fill-color);\n",
       "    }\n",
       "    20% {\n",
       "      border-color: transparent;\n",
       "      border-left-color: var(--fill-color);\n",
       "      border-top-color: var(--fill-color);\n",
       "    }\n",
       "    30% {\n",
       "      border-color: transparent;\n",
       "      border-left-color: var(--fill-color);\n",
       "      border-top-color: var(--fill-color);\n",
       "      border-right-color: var(--fill-color);\n",
       "    }\n",
       "    40% {\n",
       "      border-color: transparent;\n",
       "      border-right-color: var(--fill-color);\n",
       "      border-top-color: var(--fill-color);\n",
       "    }\n",
       "    60% {\n",
       "      border-color: transparent;\n",
       "      border-right-color: var(--fill-color);\n",
       "    }\n",
       "    80% {\n",
       "      border-color: transparent;\n",
       "      border-right-color: var(--fill-color);\n",
       "      border-bottom-color: var(--fill-color);\n",
       "    }\n",
       "    90% {\n",
       "      border-color: transparent;\n",
       "      border-bottom-color: var(--fill-color);\n",
       "    }\n",
       "  }\n",
       "</style>\n",
       "\n",
       "  <script>\n",
       "    async function quickchart(key) {\n",
       "      const quickchartButtonEl =\n",
       "        document.querySelector('#' + key + ' button');\n",
       "      quickchartButtonEl.disabled = true;  // To prevent multiple clicks.\n",
       "      quickchartButtonEl.classList.add('colab-df-spinner');\n",
       "      try {\n",
       "        const charts = await google.colab.kernel.invokeFunction(\n",
       "            'suggestCharts', [key], {});\n",
       "      } catch (error) {\n",
       "        console.error('Error during call to suggestCharts:', error);\n",
       "      }\n",
       "      quickchartButtonEl.classList.remove('colab-df-spinner');\n",
       "      quickchartButtonEl.classList.add('colab-df-quickchart-complete');\n",
       "    }\n",
       "    (() => {\n",
       "      let quickchartButtonEl =\n",
       "        document.querySelector('#df-033a465c-f28c-40b7-a706-09b1cf28c485 button');\n",
       "      quickchartButtonEl.style.display =\n",
       "        google.colab.kernel.accessAllowed ? 'block' : 'none';\n",
       "    })();\n",
       "  </script>\n",
       "</div>\n",
       "\n",
       "    </div>\n",
       "  </div>\n"
      ],
      "text/plain": [
       "                          title                               artist\n",
       "id                                                                  \n",
       "1922                        One                            Metallica\n",
       "5586           The Last In Line                                  Dio\n",
       "11517    Mary Had A Little Lamb  Stevie Ray Vaughan & Double Trouble\n",
       "1954    The Number Of The Beast                          Iron Maiden\n",
       "2014            Youth Gone Wild                             Skid Row"
      ]
     },
     "execution_count": 35,
     "metadata": {},
     "output_type": "execute_result"
    }
   ],
   "source": [
    "import numpy as np\n",
    "\n",
    "def print_recommendations(song_id):\n",
    "    similar_songs = np.array(\n",
    "        model.wv.most_similar(positive=str(song_id),topn=5)\n",
    "    )[:,0]\n",
    "    return  songs_df.iloc[similar_songs]\n",
    "\n",
    "# Extract recommendations\n",
    "print_recommendations(2172)"
   ]
  },
  {
   "cell_type": "code",
   "execution_count": null,
   "metadata": {
    "colab": {
     "base_uri": "https://localhost:8080/",
     "height": 238
    },
    "id": "jxyFuarVlVB8",
    "outputId": "2efc32c5-978c-4c20-e68f-ebd9713596a6"
   },
   "outputs": [
    {
     "data": {
      "application/vnd.google.colaboratory.intrinsic+json": {
       "summary": "{\n  \"name\": \"print_recommendations(842)\",\n  \"rows\": 5,\n  \"fields\": [\n    {\n      \"column\": \"id\",\n      \"properties\": {\n        \"dtype\": \"string\",\n        \"num_unique_values\": 5,\n        \"samples\": [\n          \"413 \",\n          \"886 \",\n          \"12205 \"\n        ],\n        \"semantic_type\": \"\",\n        \"description\": \"\"\n      }\n    },\n    {\n      \"column\": \"title\",\n      \"properties\": {\n        \"dtype\": \"string\",\n        \"num_unique_values\": 5,\n        \"samples\": [\n          \"If I Ruled The World (Imagine That) (w\\\\/ Lauryn Hill)\",\n          \"Heartless\",\n          \"Give It Up To Me\"\n        ],\n        \"semantic_type\": \"\",\n        \"description\": \"\"\n      }\n    },\n    {\n      \"column\": \"artist\",\n      \"properties\": {\n        \"dtype\": \"string\",\n        \"num_unique_values\": 5,\n        \"samples\": [\n          \"Nas\",\n          \"Kanye West\",\n          \"Sean Paul\"\n        ],\n        \"semantic_type\": \"\",\n        \"description\": \"\"\n      }\n    }\n  ]\n}",
       "type": "dataframe"
      },
      "text/html": [
       "\n",
       "  <div id=\"df-5daf7626-6af7-413f-9a89-d0b8de2a1cb7\" class=\"colab-df-container\">\n",
       "    <div>\n",
       "<style scoped>\n",
       "    .dataframe tbody tr th:only-of-type {\n",
       "        vertical-align: middle;\n",
       "    }\n",
       "\n",
       "    .dataframe tbody tr th {\n",
       "        vertical-align: top;\n",
       "    }\n",
       "\n",
       "    .dataframe thead th {\n",
       "        text-align: right;\n",
       "    }\n",
       "</style>\n",
       "<table border=\"1\" class=\"dataframe\">\n",
       "  <thead>\n",
       "    <tr style=\"text-align: right;\">\n",
       "      <th></th>\n",
       "      <th>title</th>\n",
       "      <th>artist</th>\n",
       "    </tr>\n",
       "    <tr>\n",
       "      <th>id</th>\n",
       "      <th></th>\n",
       "      <th></th>\n",
       "    </tr>\n",
       "  </thead>\n",
       "  <tbody>\n",
       "    <tr>\n",
       "      <th>330</th>\n",
       "      <td>Hate It Or Love It (w\\/ 50 Cent)</td>\n",
       "      <td>The Game</td>\n",
       "    </tr>\n",
       "    <tr>\n",
       "      <th>413</th>\n",
       "      <td>If I Ruled The World (Imagine That) (w\\/ Laury...</td>\n",
       "      <td>Nas</td>\n",
       "    </tr>\n",
       "    <tr>\n",
       "      <th>12205</th>\n",
       "      <td>Give It Up To Me</td>\n",
       "      <td>Sean Paul</td>\n",
       "    </tr>\n",
       "    <tr>\n",
       "      <th>331</th>\n",
       "      <td>Get Low (w\\/ Ying Yang Twins)</td>\n",
       "      <td>Lil' Jon &amp; The Eastside Boyz</td>\n",
       "    </tr>\n",
       "    <tr>\n",
       "      <th>886</th>\n",
       "      <td>Heartless</td>\n",
       "      <td>Kanye West</td>\n",
       "    </tr>\n",
       "  </tbody>\n",
       "</table>\n",
       "</div>\n",
       "    <div class=\"colab-df-buttons\">\n",
       "\n",
       "  <div class=\"colab-df-container\">\n",
       "    <button class=\"colab-df-convert\" onclick=\"convertToInteractive('df-5daf7626-6af7-413f-9a89-d0b8de2a1cb7')\"\n",
       "            title=\"Convert this dataframe to an interactive table.\"\n",
       "            style=\"display:none;\">\n",
       "\n",
       "  <svg xmlns=\"http://www.w3.org/2000/svg\" height=\"24px\" viewBox=\"0 -960 960 960\">\n",
       "    <path d=\"M120-120v-720h720v720H120Zm60-500h600v-160H180v160Zm220 220h160v-160H400v160Zm0 220h160v-160H400v160ZM180-400h160v-160H180v160Zm440 0h160v-160H620v160ZM180-180h160v-160H180v160Zm440 0h160v-160H620v160Z\"/>\n",
       "  </svg>\n",
       "    </button>\n",
       "\n",
       "  <style>\n",
       "    .colab-df-container {\n",
       "      display:flex;\n",
       "      gap: 12px;\n",
       "    }\n",
       "\n",
       "    .colab-df-convert {\n",
       "      background-color: #E8F0FE;\n",
       "      border: none;\n",
       "      border-radius: 50%;\n",
       "      cursor: pointer;\n",
       "      display: none;\n",
       "      fill: #1967D2;\n",
       "      height: 32px;\n",
       "      padding: 0 0 0 0;\n",
       "      width: 32px;\n",
       "    }\n",
       "\n",
       "    .colab-df-convert:hover {\n",
       "      background-color: #E2EBFA;\n",
       "      box-shadow: 0px 1px 2px rgba(60, 64, 67, 0.3), 0px 1px 3px 1px rgba(60, 64, 67, 0.15);\n",
       "      fill: #174EA6;\n",
       "    }\n",
       "\n",
       "    .colab-df-buttons div {\n",
       "      margin-bottom: 4px;\n",
       "    }\n",
       "\n",
       "    [theme=dark] .colab-df-convert {\n",
       "      background-color: #3B4455;\n",
       "      fill: #D2E3FC;\n",
       "    }\n",
       "\n",
       "    [theme=dark] .colab-df-convert:hover {\n",
       "      background-color: #434B5C;\n",
       "      box-shadow: 0px 1px 3px 1px rgba(0, 0, 0, 0.15);\n",
       "      filter: drop-shadow(0px 1px 2px rgba(0, 0, 0, 0.3));\n",
       "      fill: #FFFFFF;\n",
       "    }\n",
       "  </style>\n",
       "\n",
       "    <script>\n",
       "      const buttonEl =\n",
       "        document.querySelector('#df-5daf7626-6af7-413f-9a89-d0b8de2a1cb7 button.colab-df-convert');\n",
       "      buttonEl.style.display =\n",
       "        google.colab.kernel.accessAllowed ? 'block' : 'none';\n",
       "\n",
       "      async function convertToInteractive(key) {\n",
       "        const element = document.querySelector('#df-5daf7626-6af7-413f-9a89-d0b8de2a1cb7');\n",
       "        const dataTable =\n",
       "          await google.colab.kernel.invokeFunction('convertToInteractive',\n",
       "                                                    [key], {});\n",
       "        if (!dataTable) return;\n",
       "\n",
       "        const docLinkHtml = 'Like what you see? Visit the ' +\n",
       "          '<a target=\"_blank\" href=https://colab.research.google.com/notebooks/data_table.ipynb>data table notebook</a>'\n",
       "          + ' to learn more about interactive tables.';\n",
       "        element.innerHTML = '';\n",
       "        dataTable['output_type'] = 'display_data';\n",
       "        await google.colab.output.renderOutput(dataTable, element);\n",
       "        const docLink = document.createElement('div');\n",
       "        docLink.innerHTML = docLinkHtml;\n",
       "        element.appendChild(docLink);\n",
       "      }\n",
       "    </script>\n",
       "  </div>\n",
       "\n",
       "\n",
       "<div id=\"df-fa853d3f-95c1-4a00-a411-a66a9945ce70\">\n",
       "  <button class=\"colab-df-quickchart\" onclick=\"quickchart('df-fa853d3f-95c1-4a00-a411-a66a9945ce70')\"\n",
       "            title=\"Suggest charts\"\n",
       "            style=\"display:none;\">\n",
       "\n",
       "<svg xmlns=\"http://www.w3.org/2000/svg\" height=\"24px\"viewBox=\"0 0 24 24\"\n",
       "     width=\"24px\">\n",
       "    <g>\n",
       "        <path d=\"M19 3H5c-1.1 0-2 .9-2 2v14c0 1.1.9 2 2 2h14c1.1 0 2-.9 2-2V5c0-1.1-.9-2-2-2zM9 17H7v-7h2v7zm4 0h-2V7h2v10zm4 0h-2v-4h2v4z\"/>\n",
       "    </g>\n",
       "</svg>\n",
       "  </button>\n",
       "\n",
       "<style>\n",
       "  .colab-df-quickchart {\n",
       "      --bg-color: #E8F0FE;\n",
       "      --fill-color: #1967D2;\n",
       "      --hover-bg-color: #E2EBFA;\n",
       "      --hover-fill-color: #174EA6;\n",
       "      --disabled-fill-color: #AAA;\n",
       "      --disabled-bg-color: #DDD;\n",
       "  }\n",
       "\n",
       "  [theme=dark] .colab-df-quickchart {\n",
       "      --bg-color: #3B4455;\n",
       "      --fill-color: #D2E3FC;\n",
       "      --hover-bg-color: #434B5C;\n",
       "      --hover-fill-color: #FFFFFF;\n",
       "      --disabled-bg-color: #3B4455;\n",
       "      --disabled-fill-color: #666;\n",
       "  }\n",
       "\n",
       "  .colab-df-quickchart {\n",
       "    background-color: var(--bg-color);\n",
       "    border: none;\n",
       "    border-radius: 50%;\n",
       "    cursor: pointer;\n",
       "    display: none;\n",
       "    fill: var(--fill-color);\n",
       "    height: 32px;\n",
       "    padding: 0;\n",
       "    width: 32px;\n",
       "  }\n",
       "\n",
       "  .colab-df-quickchart:hover {\n",
       "    background-color: var(--hover-bg-color);\n",
       "    box-shadow: 0 1px 2px rgba(60, 64, 67, 0.3), 0 1px 3px 1px rgba(60, 64, 67, 0.15);\n",
       "    fill: var(--button-hover-fill-color);\n",
       "  }\n",
       "\n",
       "  .colab-df-quickchart-complete:disabled,\n",
       "  .colab-df-quickchart-complete:disabled:hover {\n",
       "    background-color: var(--disabled-bg-color);\n",
       "    fill: var(--disabled-fill-color);\n",
       "    box-shadow: none;\n",
       "  }\n",
       "\n",
       "  .colab-df-spinner {\n",
       "    border: 2px solid var(--fill-color);\n",
       "    border-color: transparent;\n",
       "    border-bottom-color: var(--fill-color);\n",
       "    animation:\n",
       "      spin 1s steps(1) infinite;\n",
       "  }\n",
       "\n",
       "  @keyframes spin {\n",
       "    0% {\n",
       "      border-color: transparent;\n",
       "      border-bottom-color: var(--fill-color);\n",
       "      border-left-color: var(--fill-color);\n",
       "    }\n",
       "    20% {\n",
       "      border-color: transparent;\n",
       "      border-left-color: var(--fill-color);\n",
       "      border-top-color: var(--fill-color);\n",
       "    }\n",
       "    30% {\n",
       "      border-color: transparent;\n",
       "      border-left-color: var(--fill-color);\n",
       "      border-top-color: var(--fill-color);\n",
       "      border-right-color: var(--fill-color);\n",
       "    }\n",
       "    40% {\n",
       "      border-color: transparent;\n",
       "      border-right-color: var(--fill-color);\n",
       "      border-top-color: var(--fill-color);\n",
       "    }\n",
       "    60% {\n",
       "      border-color: transparent;\n",
       "      border-right-color: var(--fill-color);\n",
       "    }\n",
       "    80% {\n",
       "      border-color: transparent;\n",
       "      border-right-color: var(--fill-color);\n",
       "      border-bottom-color: var(--fill-color);\n",
       "    }\n",
       "    90% {\n",
       "      border-color: transparent;\n",
       "      border-bottom-color: var(--fill-color);\n",
       "    }\n",
       "  }\n",
       "</style>\n",
       "\n",
       "  <script>\n",
       "    async function quickchart(key) {\n",
       "      const quickchartButtonEl =\n",
       "        document.querySelector('#' + key + ' button');\n",
       "      quickchartButtonEl.disabled = true;  // To prevent multiple clicks.\n",
       "      quickchartButtonEl.classList.add('colab-df-spinner');\n",
       "      try {\n",
       "        const charts = await google.colab.kernel.invokeFunction(\n",
       "            'suggestCharts', [key], {});\n",
       "      } catch (error) {\n",
       "        console.error('Error during call to suggestCharts:', error);\n",
       "      }\n",
       "      quickchartButtonEl.classList.remove('colab-df-spinner');\n",
       "      quickchartButtonEl.classList.add('colab-df-quickchart-complete');\n",
       "    }\n",
       "    (() => {\n",
       "      let quickchartButtonEl =\n",
       "        document.querySelector('#df-fa853d3f-95c1-4a00-a411-a66a9945ce70 button');\n",
       "      quickchartButtonEl.style.display =\n",
       "        google.colab.kernel.accessAllowed ? 'block' : 'none';\n",
       "    })();\n",
       "  </script>\n",
       "</div>\n",
       "\n",
       "    </div>\n",
       "  </div>\n"
      ],
      "text/plain": [
       "                                                    title  \\\n",
       "id                                                          \n",
       "330                      Hate It Or Love It (w\\/ 50 Cent)   \n",
       "413     If I Ruled The World (Imagine That) (w\\/ Laury...   \n",
       "12205                                    Give It Up To Me   \n",
       "331                         Get Low (w\\/ Ying Yang Twins)   \n",
       "886                                             Heartless   \n",
       "\n",
       "                              artist  \n",
       "id                                    \n",
       "330                         The Game  \n",
       "413                              Nas  \n",
       "12205                      Sean Paul  \n",
       "331     Lil' Jon & The Eastside Boyz  \n",
       "886                       Kanye West  "
      ]
     },
     "execution_count": 37,
     "metadata": {},
     "output_type": "execute_result"
    }
   ],
   "source": [
    "print_recommendations(842)"
   ]
  },
  {
   "cell_type": "code",
   "execution_count": null,
   "metadata": {
    "id": "4zWHY21tlgFm"
   },
   "outputs": [],
   "source": []
  }
 ],
 "metadata": {
  "accelerator": "GPU",
  "colab": {
   "authorship_tag": "ABX9TyNxNXP6ba29pJoc8hBNb8X8",
   "gpuType": "T4",
   "include_colab_link": true,
   "provenance": []
  },
  "kernelspec": {
   "display_name": "Python 3 (ipykernel)",
   "language": "python",
   "name": "python3"
  },
  "language_info": {
   "codemirror_mode": {
    "name": "ipython",
    "version": 3
   },
   "file_extension": ".py",
   "mimetype": "text/x-python",
   "name": "python",
   "nbconvert_exporter": "python",
   "pygments_lexer": "ipython3",
   "version": "3.9.13"
  },
  "widgets": {
   "application/vnd.jupyter.widget-state+json": {
    "state": {},
    "version_major": 2,
    "version_minor": 0
   }
  }
 },
 "nbformat": 4,
 "nbformat_minor": 1
}
