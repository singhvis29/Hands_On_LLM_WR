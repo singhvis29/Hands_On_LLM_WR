{
 "cells": [
  {
   "cell_type": "markdown",
   "metadata": {
    "colab_type": "text",
    "id": "view-in-github"
   },
   "source": [
    "<a href=\"https://colab.research.google.com/github/singhvis29/Hands_On_LLM_WR/blob/main/Ch6_Prompt_Engineering.ipynb\" target=\"_parent\"><img src=\"https://colab.research.google.com/assets/colab-badge.svg\" alt=\"Open In Colab\"/></a>"
   ]
  },
  {
   "cell_type": "code",
   "execution_count": 1,
   "metadata": {
    "id": "W4KPHYisDIT5"
   },
   "outputs": [],
   "source": [
    "%%capture\n",
    "!pip install langchain>=0.1.17 openai>=1.13.3 langchain_openai>=0.1.6 transformers>=4.40.1 datasets>=2.18.0 accelerate>=0.27.2 sentence-transformers>=2.5.1 duckduckgo-search>=5.2.2\n",
    "!CMAKE_ARGS=\"-DLLAMA_CUBLAS=on\" pip install llama-cpp-python"
   ]
  },
  {
   "cell_type": "markdown",
   "metadata": {
    "id": "jMnhEehTDoen"
   },
   "source": [
    "### Loading Our Model"
   ]
  },
  {
   "cell_type": "code",
   "execution_count": 2,
   "metadata": {
    "colab": {
     "base_uri": "https://localhost:8080/",
     "height": 753,
     "referenced_widgets": [
      "025fafda32aa43b3b872d3825accbe10",
      "67f4f1a832b045b3baa78f61fd718d0a",
      "c8e9764c6cfc4d83a30148a7ce205117",
      "ad49812404ff432c9e03707031fbaaa8",
      "4d28dc2d6ca44b56801eb42a73913ee3",
      "5c6e683d04f54cbd9c556abce829faa7",
      "eab5a4aa250d43fc8459313ab321d666",
      "108ff11682bf4f949da817195d6588e2",
      "b0190be22f0e40cf863137df7dac4c0d",
      "fdddb3b8a460449b8d4f1e84b6861688",
      "735fd57250c1497e950a1c115c89de1e",
      "452c43cf2cd14907bdec827b04334dba",
      "ce611930b1ff4a08a9b8a6597a96a7eb",
      "4e367565bd564b038513539bda4c731a",
      "a9ad6beaaa4e4940a8feede649586990",
      "d9b9a3be3757480e9b5187d5adcc72b5",
      "eb8b40caaf704b84b5deb3a585ba4810",
      "02c388b2470346cbb3092e98c0a63588",
      "47edf2a630434e6797fd36f888180978",
      "9196b519c22e4b359f49bcc08355c9c2",
      "71abee43930242fca3b14c08eba6f5b9",
      "3d209a45c47543cbb7e30e61a196c52a",
      "a20539eb31124286b68fcaa644916ecd",
      "cf1a6e192ff24df897518cd48696f7d7",
      "db688ba788924beeb9d45a0699e66c54",
      "a59a8ddb3ccd4aac836b3baa26311966",
      "c01d20972b2e422c8c464d1e0cc2de84",
      "fc4a274ad0a24ea6aa86190b4e65f5d6",
      "6249e6c714434c79a41b27944b76ad38",
      "1e8277d1c90c4476a804ee3b255162bb",
      "13e68fccfd684cceaba6df47b0ff6adc",
      "b1df05541edd43c69e794a950c8195fb",
      "704cc8128f7f44e2b44f388db8335fc7",
      "70a59c847e1b4d61923d65e1bd0866ef",
      "406b4c2bde0142f4947922f87c18880f",
      "720c27c634dc49f6aee590ec4d7280b3",
      "e085ff70c40f44ada02f0898e826227b",
      "e1b91dd730a24245a78c55f5b5d7108c",
      "089dcad49b954e8199d672e5a26b63a8",
      "ce5d697cfc9842ce92077ea1af34ca96",
      "ef3b3b0ced604539895a7f43e814b5cc",
      "9997a61c306349abb81e604911a8097b",
      "338dd14993e94c9497a409efddc3cc45",
      "1912d85f34234be98b024d5dc3c3a631",
      "2c5a73a65c9d40369f4b40813dda0d60",
      "5646e86b63bd476dbaf33fc6a8daefd0",
      "8ef85c0525f44c569760edab7e5e8724",
      "acccbc4d09b54c7bb68c5825c215ea20",
      "68855f6f75aa4a15931b195139d7ade0",
      "9db835ada6d845318a1c1401a0f75cde",
      "67f13f27cd2d4805a377893c5acfdb68",
      "74b12de1e59b4726908e8d81f5eaee47",
      "fb61117679a2466fb306c46a31a4f77f",
      "a262afae61104ef792868dc1ead9bbe0",
      "6f1e05e2ec524cb89ff6284de530644a",
      "a2377420ad6648e19c737b23ab6ffc9a",
      "e5b515f629f240598843c632bb0b30b1",
      "2195ab27790c489a984b47614c129252",
      "b6864a8c2d3b4ae5acab038483b1853f",
      "fb50fd8be3e84824b8e08179f541be35",
      "6f8c17f256924491b9cd3976686cc6f7",
      "92768137809f4e0892adea2667385f34",
      "1c4bcff724ef43d5bf10c88018f6692b",
      "604bd6c3fc62420f8f839b275aa8835e",
      "7f520438413c418eb00e20d304f01aa3",
      "b063756ce47c4ff4ac2e0daf736dd052",
      "da17a92a8bdd4fd28816ef7cb010d373",
      "c52a03a14fde4d839b49cbf1af0c6025",
      "399cf6beec4e4aa9b05ec04611052fdd",
      "ed6daed3ce5f4be4b0f3d37bf0b43f7a",
      "ba0290d930954e09896582520e60fb57",
      "b0c7d841b4a44e3083490635480aa87c",
      "7fc301c67389469ca46b3d72fabbad96",
      "4a0f0b62b0774aca89294725368cbf69",
      "892205344f214a80928a8808cc2e0bfc",
      "9938176fb4c54d05887cbe6132f6bbc0",
      "43825df59a964898902b43f6996b9a61",
      "a7a3162a149648e0a2b131748b107ba9",
      "fb7c446072324ac9927e42b8b659bd34",
      "d2135bd09b7c4748a8076b7ef8b40f01",
      "3769fb5e562c4e77bec1c307c781612f",
      "c546d4383761456ebd4f247f33e8e2ab",
      "b24d20dc2e5a477da4b0555c32e0088b",
      "f9c6fccb1350429aaf05429be029575a",
      "cf9a3179054e43d899b4ecbca701ed14",
      "44c26146157d436498d0e55010d266d6",
      "a6bbeded027445eeb0092147e0e4796c",
      "fea22a7aa6ce4fb78c598ceaffb82cf2",
      "0a33aff02046408b988bc9947d18084a",
      "2732dfbbbb894f44803f049884028f1b",
      "def25e385a8c469da3a256e57c45452e",
      "1f094dcf68b44106a7f3e79931ef7d60",
      "48364f1cfc9544a39ee9d0a62e7b03c8",
      "9e1309c8c11c4e7da5ed6e5be9f65ee1",
      "e2ee9b822870417fb338446f93639e86",
      "747fb702f72c4c8283de4899a0f2553c",
      "0521aace890142808bbbe82e454a2f82",
      "da4f0dbc76dc4106b796d84c2f2c5017",
      "ebb0bd39227d46bea91c497fab77bc4b",
      "7db343c1afa14b7d98e5aecb74549d8d",
      "ef33af3c658f4dd5be7bdc1b0a58385b",
      "7b427334400f46aeb8911110e2d75b24",
      "14cb428fec3c4e52b6f8d0e6a051f7f2",
      "65ed9470ba3f4379857ae3b648da681c",
      "6ad897d2880e495589c7691435859121",
      "125ca20b4f9045948dba75d428a5ffd3",
      "1f84138c36274bf6a36f8d8372279718",
      "499e496a15bd416cb6df5dd47c037aa5",
      "5fba5fc8373747b78a9b5780695e8b3d",
      "6be0046be7054525a19b2354224a43e4",
      "e63439d68cfc4546a826d374a9ac0c0b",
      "f480b8b0b444429f94106cca94923212",
      "56ab573f78e244ef8bd4ab7492ae8fcd",
      "0ce1e2b93a0041d5a399c1ffd74d991f",
      "40a1ebb95bb048039305c9881b457b4e",
      "cc5c0366bce9497fa974568fa53507e7",
      "07290b5c29a34c6bbb6c70887eefd9eb",
      "33428822dc2f467594e7ba90e17e7c79",
      "fcff95862e324818a6306cf290dd8594",
      "c57341fc01c54ccd9780a919df8a9c96",
      "8f43280df1a94e0087df9e6406a66d06",
      "fa7eb7a30e9b48868c2ccd3a482ec0e2",
      "88de470d2e0744a4937e46ce91b7c333",
      "8aad540a8da446d1b96a2bfe1bd3048b",
      "20671096c67b4cde9f1c1d2715bea943",
      "6a9f547ac20045d58ba4196d30b3497d",
      "0696cad61e0349a68e70f6a5cdf8cf62",
      "16fdc6bf3e8142f69233c20ef7fd1ca1",
      "1a382cd5d30b4ee8a729dac7e7968bc5",
      "c228a464047a4d6cbe6fbefa23efc64d",
      "a4f77264f8b14b2c97d880670a5eb481",
      "92a48347622246009d15c9fbf977a991",
      "2e73c02a603340ccb57ea85238904084",
      "84744cf43a9b4bd8b379e06b1a235034",
      "7090c7bf2a1e4efdb3832f6ba2358177",
      "9385331c63174183a461fc47a9befd95",
      "2fcc87359ce54f8e8936eff9ed31069b",
      "a49d30af60d845a9ba2813494759cea1",
      "b2b2c4f897e3495fbd43936d36a030f4",
      "a1dcbc184bc5433d8a156efb1e9cc6ae",
      "b1812413725b4a79b33957424700b28a",
      "f6815af00f444bd1b050c25d7dd3606b",
      "4f8a5d92cea243c08a55f2d9ac5ad723",
      "dd8d975ac3794423b6e1452e4f11ca35",
      "0280268a987c4fbfb4c0cda79c95e725",
      "1e1fcfa7701a486ca6187279f8b95c5d",
      "e93d6391fbc34d7ca3f3b14474eb1400",
      "318f693ae885404296b30d7c055bd94b",
      "c1972951de4c45eab100d42c647459cb",
      "24aa2f343e0746bf8dd99110740eb5d5",
      "19190dc9b4774ff8bed908951e06ad40",
      "086fd96523ed47b88de66aa69405cee6",
      "94e1e551d3fa4cd38020be886c85664a",
      "272a330f637b4395a67d9177e5a7e446"
     ]
    },
    "id": "sbh4M7GgDav5",
    "outputId": "d4e8549c-a0b2-4ef0-eefa-205c5ea1622f"
   },
   "outputs": [
    {
     "name": "stderr",
     "output_type": "stream",
     "text": [
      "/usr/local/lib/python3.11/dist-packages/huggingface_hub/utils/_auth.py:94: UserWarning: \n",
      "The secret `HF_TOKEN` does not exist in your Colab secrets.\n",
      "To authenticate with the Hugging Face Hub, create a token in your settings tab (https://huggingface.co/settings/tokens), set it as secret in your Google Colab and restart your session.\n",
      "You will be able to reuse this secret in all of your notebooks.\n",
      "Please note that authentication is recommended but still optional to access public models or datasets.\n",
      "  warnings.warn(\n"
     ]
    },
    {
     "data": {
      "application/vnd.jupyter.widget-view+json": {
       "model_id": "025fafda32aa43b3b872d3825accbe10",
       "version_major": 2,
       "version_minor": 0
      },
      "text/plain": [
       "config.json:   0%|          | 0.00/967 [00:00<?, ?B/s]"
      ]
     },
     "metadata": {},
     "output_type": "display_data"
    },
    {
     "data": {
      "application/vnd.jupyter.widget-view+json": {
       "model_id": "452c43cf2cd14907bdec827b04334dba",
       "version_major": 2,
       "version_minor": 0
      },
      "text/plain": [
       "configuration_phi3.py:   0%|          | 0.00/11.2k [00:00<?, ?B/s]"
      ]
     },
     "metadata": {},
     "output_type": "display_data"
    },
    {
     "name": "stderr",
     "output_type": "stream",
     "text": [
      "A new version of the following files was downloaded from https://huggingface.co/microsoft/Phi-3-mini-4k-instruct:\n",
      "- configuration_phi3.py\n",
      ". Make sure to double-check they do not contain any added malicious code. To avoid downloading new versions of the code file, you can pin a revision.\n"
     ]
    },
    {
     "data": {
      "application/vnd.jupyter.widget-view+json": {
       "model_id": "a20539eb31124286b68fcaa644916ecd",
       "version_major": 2,
       "version_minor": 0
      },
      "text/plain": [
       "modeling_phi3.py:   0%|          | 0.00/73.2k [00:00<?, ?B/s]"
      ]
     },
     "metadata": {},
     "output_type": "display_data"
    },
    {
     "name": "stderr",
     "output_type": "stream",
     "text": [
      "A new version of the following files was downloaded from https://huggingface.co/microsoft/Phi-3-mini-4k-instruct:\n",
      "- modeling_phi3.py\n",
      ". Make sure to double-check they do not contain any added malicious code. To avoid downloading new versions of the code file, you can pin a revision.\n",
      "WARNING:transformers_modules.microsoft.Phi-3-mini-4k-instruct.0a67737cc96d2554230f90338b163bc6380a2a85.modeling_phi3:`flash-attention` package not found, consider installing for better performance: No module named 'flash_attn'.\n",
      "WARNING:transformers_modules.microsoft.Phi-3-mini-4k-instruct.0a67737cc96d2554230f90338b163bc6380a2a85.modeling_phi3:Current `flash-attention` does not support `window_size`. Either upgrade or use `attn_implementation='eager'`.\n"
     ]
    },
    {
     "data": {
      "application/vnd.jupyter.widget-view+json": {
       "model_id": "70a59c847e1b4d61923d65e1bd0866ef",
       "version_major": 2,
       "version_minor": 0
      },
      "text/plain": [
       "model.safetensors.index.json:   0%|          | 0.00/16.5k [00:00<?, ?B/s]"
      ]
     },
     "metadata": {},
     "output_type": "display_data"
    },
    {
     "data": {
      "application/vnd.jupyter.widget-view+json": {
       "model_id": "2c5a73a65c9d40369f4b40813dda0d60",
       "version_major": 2,
       "version_minor": 0
      },
      "text/plain": [
       "Fetching 2 files:   0%|          | 0/2 [00:00<?, ?it/s]"
      ]
     },
     "metadata": {},
     "output_type": "display_data"
    },
    {
     "data": {
      "application/vnd.jupyter.widget-view+json": {
       "model_id": "a2377420ad6648e19c737b23ab6ffc9a",
       "version_major": 2,
       "version_minor": 0
      },
      "text/plain": [
       "model-00001-of-00002.safetensors:   0%|          | 0.00/4.97G [00:00<?, ?B/s]"
      ]
     },
     "metadata": {},
     "output_type": "display_data"
    },
    {
     "data": {
      "application/vnd.jupyter.widget-view+json": {
       "model_id": "da17a92a8bdd4fd28816ef7cb010d373",
       "version_major": 2,
       "version_minor": 0
      },
      "text/plain": [
       "model-00002-of-00002.safetensors:   0%|          | 0.00/2.67G [00:00<?, ?B/s]"
      ]
     },
     "metadata": {},
     "output_type": "display_data"
    },
    {
     "data": {
      "application/vnd.jupyter.widget-view+json": {
       "model_id": "a7a3162a149648e0a2b131748b107ba9",
       "version_major": 2,
       "version_minor": 0
      },
      "text/plain": [
       "Loading checkpoint shards:   0%|          | 0/2 [00:00<?, ?it/s]"
      ]
     },
     "metadata": {},
     "output_type": "display_data"
    },
    {
     "data": {
      "application/vnd.jupyter.widget-view+json": {
       "model_id": "0a33aff02046408b988bc9947d18084a",
       "version_major": 2,
       "version_minor": 0
      },
      "text/plain": [
       "generation_config.json:   0%|          | 0.00/181 [00:00<?, ?B/s]"
      ]
     },
     "metadata": {},
     "output_type": "display_data"
    },
    {
     "data": {
      "application/vnd.jupyter.widget-view+json": {
       "model_id": "7db343c1afa14b7d98e5aecb74549d8d",
       "version_major": 2,
       "version_minor": 0
      },
      "text/plain": [
       "tokenizer_config.json:   0%|          | 0.00/3.44k [00:00<?, ?B/s]"
      ]
     },
     "metadata": {},
     "output_type": "display_data"
    },
    {
     "data": {
      "application/vnd.jupyter.widget-view+json": {
       "model_id": "e63439d68cfc4546a826d374a9ac0c0b",
       "version_major": 2,
       "version_minor": 0
      },
      "text/plain": [
       "tokenizer.model:   0%|          | 0.00/500k [00:00<?, ?B/s]"
      ]
     },
     "metadata": {},
     "output_type": "display_data"
    },
    {
     "data": {
      "application/vnd.jupyter.widget-view+json": {
       "model_id": "fa7eb7a30e9b48868c2ccd3a482ec0e2",
       "version_major": 2,
       "version_minor": 0
      },
      "text/plain": [
       "tokenizer.json:   0%|          | 0.00/1.94M [00:00<?, ?B/s]"
      ]
     },
     "metadata": {},
     "output_type": "display_data"
    },
    {
     "data": {
      "application/vnd.jupyter.widget-view+json": {
       "model_id": "2e73c02a603340ccb57ea85238904084",
       "version_major": 2,
       "version_minor": 0
      },
      "text/plain": [
       "added_tokens.json:   0%|          | 0.00/306 [00:00<?, ?B/s]"
      ]
     },
     "metadata": {},
     "output_type": "display_data"
    },
    {
     "data": {
      "application/vnd.jupyter.widget-view+json": {
       "model_id": "dd8d975ac3794423b6e1452e4f11ca35",
       "version_major": 2,
       "version_minor": 0
      },
      "text/plain": [
       "special_tokens_map.json:   0%|          | 0.00/599 [00:00<?, ?B/s]"
      ]
     },
     "metadata": {},
     "output_type": "display_data"
    },
    {
     "name": "stderr",
     "output_type": "stream",
     "text": [
      "Device set to use cuda\n"
     ]
    }
   ],
   "source": [
    "import torch\n",
    "from transformers import AutoModelForCausalLM, AutoTokenizer, pipeline, GenerationConfig\n",
    "\n",
    "# Load model and tokenizer\n",
    "model = AutoModelForCausalLM.from_pretrained(\n",
    "    \"microsoft/Phi-3-mini-4k-instruct\",\n",
    "    device_map=\"cuda\",\n",
    "    torch_dtype=\"auto\",\n",
    "    trust_remote_code=True,\n",
    ")\n",
    "tokenizer = AutoTokenizer.from_pretrained(\"microsoft/Phi-3-mini-4k-instruct\")\n",
    "\n",
    "# Create a pipeline with a generation config using a static cache\n",
    "generation_config = GenerationConfig.from_pretrained(\n",
    "    \"microsoft/Phi-3-mini-4k-instruct\", use_cache=False\n",
    ")\n",
    "pipe = pipeline(\n",
    "    \"text-generation\",\n",
    "    model=model,\n",
    "    tokenizer=tokenizer,\n",
    "    return_full_text=False,\n",
    "    max_new_tokens=500,\n",
    "    do_sample=False,\n",
    "    generation_config=generation_config, # Pass the generation config to pipeline\n",
    ")\n",
    "\n"
   ]
  },
  {
   "cell_type": "code",
   "execution_count": 3,
   "metadata": {
    "colab": {
     "base_uri": "https://localhost:8080/"
    },
    "id": "HqZgK4UlDrKZ",
    "outputId": "3fd2af1f-498e-479b-9842-e8de06ecfe4f"
   },
   "outputs": [
    {
     "name": "stderr",
     "output_type": "stream",
     "text": [
      "WARNING:transformers_modules.microsoft.Phi-3-mini-4k-instruct.0a67737cc96d2554230f90338b163bc6380a2a85.modeling_phi3:You are not running the flash-attention implementation, expect numerical differences.\n"
     ]
    },
    {
     "name": "stdout",
     "output_type": "stream",
     "text": [
      " Why did the chicken join the band? Because it had the drumsticks!\n"
     ]
    }
   ],
   "source": [
    "# Prompt\n",
    "messages = [\n",
    "    {\"role\": \"user\", \"content\": \"Create a funny joke about chickens.\"}\n",
    "]\n",
    "\n",
    "# Generate the output\n",
    "output = pipe(messages)\n",
    "print(output[0][\"generated_text\"])"
   ]
  },
  {
   "cell_type": "code",
   "execution_count": 4,
   "metadata": {
    "colab": {
     "base_uri": "https://localhost:8080/"
    },
    "id": "_B2GTwJ6DuT8",
    "outputId": "eef696fb-8d37-4935-85c6-7582776a42eb"
   },
   "outputs": [
    {
     "name": "stdout",
     "output_type": "stream",
     "text": [
      "<|user|>\n",
      "Create a funny joke about chickens.<|end|>\n",
      "<|endoftext|>\n"
     ]
    }
   ],
   "source": [
    "# Apply prompt template\n",
    "prompt = pipe.tokenizer.apply_chat_template(messages, tokenize=False)\n",
    "print(prompt)"
   ]
  },
  {
   "cell_type": "code",
   "execution_count": 5,
   "metadata": {
    "colab": {
     "base_uri": "https://localhost:8080/"
    },
    "id": "Y39G2_tBDwmT",
    "outputId": "c640e3c0-80e2-448d-e856-850adac7820d"
   },
   "outputs": [
    {
     "name": "stdout",
     "output_type": "stream",
     "text": [
      " Why do chickens have such short memories? Because even a chicken can only remember to \"cross the road\" if there's an egg carton at the end of it!\n"
     ]
    }
   ],
   "source": [
    "# Using a high temperature\n",
    "output = pipe(messages, do_sample=True, temperature=1)\n",
    "print(output[0][\"generated_text\"])"
   ]
  },
  {
   "cell_type": "code",
   "execution_count": 6,
   "metadata": {
    "colab": {
     "base_uri": "https://localhost:8080/"
    },
    "id": "iaiGB1A4D24I",
    "outputId": "2b3e24f1-ea0f-4d92-da5d-10e0ba3e6014"
   },
   "outputs": [
    {
     "name": "stdout",
     "output_type": "stream",
     "text": [
      " Why do chickens make terrible dancers?\n",
      "\n",
      "Because they just can't lay the beat!\n"
     ]
    }
   ],
   "source": [
    "# Using a high top_p\n",
    "output = pipe(messages, do_sample=True, top_p=1)\n",
    "print(output[0][\"generated_text\"])"
   ]
  },
  {
   "cell_type": "markdown",
   "metadata": {
    "id": "6iSDnlQaJkFc"
   },
   "source": [
    "### Advance Prompt Engineering"
   ]
  },
  {
   "cell_type": "code",
   "execution_count": 7,
   "metadata": {
    "id": "ielX6aD5D5XW"
   },
   "outputs": [],
   "source": [
    "# Text to summarize which we stole from https://jalammar.github.io/illustrated-transformer/ ;)\n",
    "text = \"\"\"In the previous post, we looked at Attention – a ubiquitous method in modern deep learning models. Attention is a concept that helped improve the performance of neural machine translation applications. In this post, we will look at The Transformer – a model that uses attention to boost the speed with which these models can be trained. The Transformer outperforms the Google Neural Machine Translation model in specific tasks. The biggest benefit, however, comes from how The Transformer lends itself to parallelization. It is in fact Google Cloud’s recommendation to use The Transformer as a reference model to use their Cloud TPU offering. So let’s try to break the model apart and look at how it functions.\n",
    "The Transformer was proposed in the paper Attention is All You Need. A TensorFlow implementation of it is available as a part of the Tensor2Tensor package. Harvard’s NLP group created a guide annotating the paper with PyTorch implementation. In this post, we will attempt to oversimplify things a bit and introduce the concepts one by one to hopefully make it easier to understand to people without in-depth knowledge of the subject matter.\n",
    "Let’s begin by looking at the model as a single black box. In a machine translation application, it would take a sentence in one language, and output its translation in another.\n",
    "Popping open that Optimus Prime goodness, we see an encoding component, a decoding component, and connections between them.\n",
    "The encoding component is a stack of encoders (the paper stacks six of them on top of each other – there’s nothing magical about the number six, one can definitely experiment with other arrangements). The decoding component is a stack of decoders of the same number.\n",
    "The encoders are all identical in structure (yet they do not share weights). Each one is broken down into two sub-layers:\n",
    "The encoder’s inputs first flow through a self-attention layer – a layer that helps the encoder look at other words in the input sentence as it encodes a specific word. We’ll look closer at self-attention later in the post.\n",
    "The outputs of the self-attention layer are fed to a feed-forward neural network. The exact same feed-forward network is independently applied to each position.\n",
    "The decoder has both those layers, but between them is an attention layer that helps the decoder focus on relevant parts of the input sentence (similar what attention does in seq2seq models).\n",
    "Now that we’ve seen the major components of the model, let’s start to look at the various vectors/tensors and how they flow between these components to turn the input of a trained model into an output.\n",
    "As is the case in NLP applications in general, we begin by turning each input word into a vector using an embedding algorithm.\n",
    "Each word is embedded into a vector of size 512. We'll represent those vectors with these simple boxes.\n",
    "The embedding only happens in the bottom-most encoder. The abstraction that is common to all the encoders is that they receive a list of vectors each of the size 512 – In the bottom encoder that would be the word embeddings, but in other encoders, it would be the output of the encoder that’s directly below. The size of this list is hyperparameter we can set – basically it would be the length of the longest sentence in our training dataset.\n",
    "After embedding the words in our input sequence, each of them flows through each of the two layers of the encoder.\n",
    "Here we begin to see one key property of the Transformer, which is that the word in each position flows through its own path in the encoder. There are dependencies between these paths in the self-attention layer. The feed-forward layer does not have those dependencies, however, and thus the various paths can be executed in parallel while flowing through the feed-forward layer.\n",
    "Next, we’ll switch up the example to a shorter sentence and we’ll look at what happens in each sub-layer of the encoder.\n",
    "Now We’re Encoding!\n",
    "As we’ve mentioned already, an encoder receives a list of vectors as input. It processes this list by passing these vectors into a ‘self-attention’ layer, then into a feed-forward neural network, then sends out the output upwards to the next encoder.\n",
    "\"\"\"\n",
    "\n"
   ]
  },
  {
   "cell_type": "code",
   "execution_count": 8,
   "metadata": {
    "id": "TsUFMNntJvf8"
   },
   "outputs": [],
   "source": [
    "# Prompt components\n",
    "persona = \"You are an expert in Large Language models. You excel at breaking down complex papers into digestible summaries.\\n\"\n",
    "instruction = \"Summarize the key findings of the paper provided.\\n\"\n",
    "context = \"Your summary should extract the most crucial points that can help researchers quickly understand the most vital information of the paper.\\n\"\n",
    "data_format = \"Create a bullet-point summary that outlines the method. Follow this up with a concise paragraph that encapsulates the main results.\\n\"\n",
    "audience = \"The summary is designed for busy researchers that quickly need to grasp the newest trends in Large Language Models.\\n\"\n",
    "tone = \"The tone should be professional and clear.\\n\"\n",
    "# text = \"MY TEXT TO SUMMARIZE\"  # Replace with your own text to summarize\n",
    "data = f\"Text to summarize: {text}\"\n",
    "\n",
    "# The full prompt - remove and add pieces to view its impact on the generated output\n",
    "query1 = instruction + data"
   ]
  },
  {
   "cell_type": "code",
   "execution_count": 9,
   "metadata": {
    "colab": {
     "base_uri": "https://localhost:8080/"
    },
    "id": "vHY2OldDKF6g",
    "outputId": "72bb3e36-1160-4976-f242-1ea2c4458256"
   },
   "outputs": [
    {
     "name": "stdout",
     "output_type": "stream",
     "text": [
      "<|user|>\n",
      "Summarize the key findings of the paper provided.\n",
      "Text to summarize: In the previous post, we looked at Attention – a ubiquitous method in modern deep learning models. Attention is a concept that helped improve the performance of neural machine translation applications. In this post, we will look at The Transformer – a model that uses attention to boost the speed with which these models can be trained. The Transformer outperforms the Google Neural Machine Translation model in specific tasks. The biggest benefit, however, comes from how The Transformer lends itself to parallelization. It is in fact Google Cloud’s recommendation to use The Transformer as a reference model to use their Cloud TPU offering. So let’s try to break the model apart and look at how it functions.\n",
      "The Transformer was proposed in the paper Attention is All You Need. A TensorFlow implementation of it is available as a part of the Tensor2Tensor package. Harvard’s NLP group created a guide annotating the paper with PyTorch implementation. In this post, we will attempt to oversimplify things a bit and introduce the concepts one by one to hopefully make it easier to understand to people without in-depth knowledge of the subject matter.\n",
      "Let’s begin by looking at the model as a single black box. In a machine translation application, it would take a sentence in one language, and output its translation in another.\n",
      "Popping open that Optimus Prime goodness, we see an encoding component, a decoding component, and connections between them.\n",
      "The encoding component is a stack of encoders (the paper stacks six of them on top of each other – there’s nothing magical about the number six, one can definitely experiment with other arrangements). The decoding component is a stack of decoders of the same number.\n",
      "The encoders are all identical in structure (yet they do not share weights). Each one is broken down into two sub-layers:\n",
      "The encoder’s inputs first flow through a self-attention layer – a layer that helps the encoder look at other words in the input sentence as it encodes a specific word. We’ll look closer at self-attention later in the post.\n",
      "The outputs of the self-attention layer are fed to a feed-forward neural network. The exact same feed-forward network is independently applied to each position.\n",
      "The decoder has both those layers, but between them is an attention layer that helps the decoder focus on relevant parts of the input sentence (similar what attention does in seq2seq models).\n",
      "Now that we’ve seen the major components of the model, let’s start to look at the various vectors/tensors and how they flow between these components to turn the input of a trained model into an output.\n",
      "As is the case in NLP applications in general, we begin by turning each input word into a vector using an embedding algorithm.\n",
      "Each word is embedded into a vector of size 512. We'll represent those vectors with these simple boxes.\n",
      "The embedding only happens in the bottom-most encoder. The abstraction that is common to all the encoders is that they receive a list of vectors each of the size 512 – In the bottom encoder that would be the word embeddings, but in other encoders, it would be the output of the encoder that’s directly below. The size of this list is hyperparameter we can set – basically it would be the length of the longest sentence in our training dataset.\n",
      "After embedding the words in our input sequence, each of them flows through each of the two layers of the encoder.\n",
      "Here we begin to see one key property of the Transformer, which is that the word in each position flows through its own path in the encoder. There are dependencies between these paths in the self-attention layer. The feed-forward layer does not have those dependencies, however, and thus the various paths can be executed in parallel while flowing through the feed-forward layer.\n",
      "Next, we’ll switch up the example to a shorter sentence and we’ll look at what happens in each sub-layer of the encoder.\n",
      "Now We’re Encoding!\n",
      "As we’ve mentioned already, an encoder receives a list of vectors as input. It processes this list by passing these vectors into a ‘self-attention’ layer, then into a feed-forward neural network, then sends out the output upwards to the next encoder.\n",
      "<|end|>\n",
      "<|endoftext|>\n"
     ]
    }
   ],
   "source": [
    "messages = [\n",
    "    {\"role\": \"user\", \"content\": query1}\n",
    "]\n",
    "print(tokenizer.apply_chat_template(messages, tokenize=False))"
   ]
  },
  {
   "cell_type": "code",
   "execution_count": 10,
   "metadata": {
    "colab": {
     "base_uri": "https://localhost:8080/"
    },
    "id": "Hnb3wf8bLYkI",
    "outputId": "43263a4f-8ce1-467c-d6d8-c5dd3bda7f03"
   },
   "outputs": [
    {
     "name": "stdout",
     "output_type": "stream",
     "text": [
      " The Transformer model, introduced in the paper \"Attention is All You Need,\" is a deep learning architecture that uses attention mechanisms to improve the speed and efficiency of neural machine translation (NMT) applications. It consists of an encoding component and a decoding component, each containing multiple identical sub-layers. The encoding component processes input sentences by applying self-attention and feed-forward neural networks, while the decoding component focuses on relevant parts of the input sentence using attention mechanisms.\n",
      "\n",
      "The Transformer model is highly parallelizable, making it suitable for training on Google Cloud's TPU offering. It outperforms the Google Neural Machine Translation model in specific tasks. The model's architecture allows for independent processing of each word in the input sentence, enabling faster training and better performance.\n",
      "\n",
      "In the Transformer model, input words are first converted into vectors using an embedding algorithm. These vectors are then processed through the encoder's sub-layers, which consist of self-attention and feed-forward neural networks. The output of the encoder is then passed to the decoder, which uses attention mechanisms to focus on relevant parts of the input sentence.\n",
      "\n",
      "The Transformer model's key advantage lies in its ability to process each word in the input sentence independently, allowing for parallelization and faster training. This architecture has been widely adopted in NLP applications and has significantly improved the performance of neural machine translation systems.\n"
     ]
    }
   ],
   "source": [
    "# Generate the output\n",
    "outputs = pipe(messages)\n",
    "print(outputs[0][\"generated_text\"])"
   ]
  },
  {
   "cell_type": "code",
   "execution_count": null,
   "metadata": {
    "id": "3o7yhMBhUGLH"
   },
   "outputs": [],
   "source": [
    "query2 = instruction + data + context\n",
    "\n",
    "messages = [\n",
    "    {\"role\": \"user\", \"content\": query2}\n",
    "]\n",
    "print('Prompt: ', tokenizer.apply_chat_template(messages, tokenize=False))\n",
    "\n",
    "# Generate the output\n",
    "outputs = pipe(messages)\n",
    "print('Output: ', outputs[0][\"generated_text\"])"
   ]
  },
  {
   "cell_type": "code",
   "execution_count": null,
   "metadata": {
    "id": "zJ3GSfTYUXU9"
   },
   "outputs": [],
   "source": [
    "query3 = persona + instruction + context + data_format + audience + tone + data\n",
    "\n",
    "messages = [\n",
    "    {\"role\": \"user\", \"content\": query3}\n",
    "]\n",
    "print('Prompt: ', tokenizer.apply_chat_template(messages, tokenize=False))\n",
    "\n",
    "# Generate the output\n",
    "outputs = pipe(messages)\n",
    "print('Output: ', outputs[0][\"generated_text\"])"
   ]
  },
  {
   "cell_type": "markdown",
   "metadata": {
    "id": "6nUuH3E1ZCvJ"
   },
   "source": [
    "### In-Context Learning: Providing Examples"
   ]
  },
  {
   "cell_type": "code",
   "execution_count": 11,
   "metadata": {
    "colab": {
     "base_uri": "https://localhost:8080/"
    },
    "id": "eBSpA7wLZORK",
    "outputId": "457eac96-0263-4c23-ddad-2873ed56a2ec"
   },
   "outputs": [
    {
     "name": "stdout",
     "output_type": "stream",
     "text": [
      "<|user|>\n",
      "A 'Gigamuru' is a type of Japanese musical instrument. An example of a sentence that uses the word Gigamuru is:<|end|>\n",
      "<|assistant|>\n",
      "I have a Gigamuru that my uncle gave me as a gift. I love to play it at home.<|end|>\n",
      "<|user|>\n",
      "To 'screeg' something is to swing a sword at it. An example of a sentence that uses the word screeg is:<|end|>\n",
      "<|endoftext|>\n"
     ]
    }
   ],
   "source": [
    "# Use a single example of using the made-up word in a sentence\n",
    "one_shot_prompt = [\n",
    "    {\n",
    "        \"role\": \"user\",\n",
    "        \"content\": \"A 'Gigamuru' is a type of Japanese musical instrument. An example of a sentence that uses the word Gigamuru is:\"\n",
    "    },\n",
    "    {\n",
    "        \"role\": \"assistant\",\n",
    "        \"content\": \"I have a Gigamuru that my uncle gave me as a gift. I love to play it at home.\"\n",
    "    },\n",
    "    {\n",
    "        \"role\": \"user\",\n",
    "        \"content\": \"To 'screeg' something is to swing a sword at it. An example of a sentence that uses the word screeg is:\"\n",
    "    }\n",
    "]\n",
    "print(tokenizer.apply_chat_template(one_shot_prompt, tokenize=False))"
   ]
  },
  {
   "cell_type": "code",
   "execution_count": 12,
   "metadata": {
    "colab": {
     "base_uri": "https://localhost:8080/"
    },
    "id": "VHG8id5-ZRhV",
    "outputId": "6e61c602-44d8-4fc1-bdda-ebbf5364c322"
   },
   "outputs": [
    {
     "name": "stdout",
     "output_type": "stream",
     "text": [
      " During the medieval reenactment, the knight skillfully screeged the wooden target, impressing the onlookers with his prowess.\n"
     ]
    }
   ],
   "source": [
    "# Generate the output\n",
    "outputs = pipe(one_shot_prompt)\n",
    "print(outputs[0][\"generated_text\"])"
   ]
  },
  {
   "cell_type": "markdown",
   "metadata": {
    "id": "F3xAK0YmZY7_"
   },
   "source": [
    "### Chain Prompting: Breaking up the Problem"
   ]
  },
  {
   "cell_type": "code",
   "execution_count": 13,
   "metadata": {
    "colab": {
     "base_uri": "https://localhost:8080/"
    },
    "id": "vHoVJXA2ZVEg",
    "outputId": "4b7db955-78d0-48a6-a707-7aaf4f38a325"
   },
   "outputs": [
    {
     "name": "stdout",
     "output_type": "stream",
     "text": [
      " Name: ChatSage\n",
      "Slogan: \"Your AI Companion for Smart Conversations\"\n"
     ]
    }
   ],
   "source": [
    "# Create name and slogan for a product\n",
    "product_prompt = [\n",
    "    {\"role\": \"user\", \"content\": \"Create a name and slogan for a chatbot that leverages LLMs.\"}\n",
    "]\n",
    "outputs = pipe(product_prompt)\n",
    "product_description = outputs[0][\"generated_text\"]\n",
    "print(product_description)"
   ]
  },
  {
   "cell_type": "code",
   "execution_count": 14,
   "metadata": {
    "colab": {
     "base_uri": "https://localhost:8080/"
    },
    "id": "2fmF2YxEZdkz",
    "outputId": "08bcadde-9d89-4680-9d8e-53250c89cd97"
   },
   "outputs": [
    {
     "name": "stdout",
     "output_type": "stream",
     "text": [
      " Introducing ChatSage, your AI Companion for Smart Conversations. With ChatSage, you'll have a personalized and intelligent assistant at your fingertips, ready to engage in meaningful dialogue, provide helpful information, and enhance your daily interactions. Experience the future of communication with ChatSage – your smart conversation partner.\n"
     ]
    }
   ],
   "source": [
    "# Based on a name and slogan for a product, generate a sales pitch\n",
    "sales_prompt = [\n",
    "    {\"role\": \"user\", \"content\": f\"Generate a very short sales pitch for the following product: '{product_description}'\"}\n",
    "]\n",
    "outputs = pipe(sales_prompt)\n",
    "sales_pitch = outputs[0][\"generated_text\"]\n",
    "print(sales_pitch)"
   ]
  },
  {
   "cell_type": "markdown",
   "metadata": {
    "id": "s2vU95PUZ7vw"
   },
   "source": [
    "## Reasoning with Generative Models"
   ]
  },
  {
   "cell_type": "markdown",
   "metadata": {
    "id": "3yXovfMTZ9Cq"
   },
   "source": [
    "### Chain-of-Thought: Think Before Answering"
   ]
  },
  {
   "cell_type": "code",
   "execution_count": 15,
   "metadata": {
    "colab": {
     "base_uri": "https://localhost:8080/"
    },
    "id": "i0_nIxJEZgdC",
    "outputId": "c21a1e81-4146-4e6c-ace1-0939e193f757"
   },
   "outputs": [
    {
     "name": "stdout",
     "output_type": "stream",
     "text": [
      " The cafeteria started with 25 apples. They used 20 apples to make lunch, so they had 25 - 20 = 5 apples left. Then they bought 6 more apples, so they now have 5 + 6 = 11 apples.\n"
     ]
    }
   ],
   "source": [
    "# Answering without explicit reasoning\n",
    "standard_prompt = [\n",
    "    {\"role\": \"user\", \"content\": \"Roger has 5 tennis balls. He buys 2 more cans of tennis balls. Each can has 3 tennis balls. How many tennis balls does he have now?\"},\n",
    "    {\"role\": \"assistant\", \"content\": \"11\"},\n",
    "    {\"role\": \"user\", \"content\": \"The cafeteria had 25 apples. If they used 20 to make lunch and bought 6 more, how many apples do they have?\"}\n",
    "]\n",
    "\n",
    "# Run generative model\n",
    "outputs = pipe(standard_prompt)\n",
    "print(outputs[0][\"generated_text\"])"
   ]
  },
  {
   "cell_type": "code",
   "execution_count": 16,
   "metadata": {
    "colab": {
     "base_uri": "https://localhost:8080/"
    },
    "id": "uFeMs9RoaE4C",
    "outputId": "2539421d-d8e2-4e41-9a70-1c49c7cb0042"
   },
   "outputs": [
    {
     "name": "stdout",
     "output_type": "stream",
     "text": [
      " The cafeteria started with 23 apples. They used 20 apples for lunch, so they had 23 - 20 = 3 apples left. After buying 6 more apples, they now have 3 + 6 = 9 apples. The answer is 9.\n"
     ]
    }
   ],
   "source": [
    "# Answering with chain-of-thought\n",
    "cot_prompt = [\n",
    "    {\"role\": \"user\", \"content\": \"Roger has 5 tennis balls. He buys 2 more cans of tennis balls. Each can has 3 tennis balls. How many tennis balls does he have now?\"},\n",
    "    {\"role\": \"assistant\", \"content\": \"Roger started with 5 balls. 2 cans of 3 tennis balls each is 6 tennis balls. 5 + 6 = 11. The answer is 11.\"},\n",
    "    {\"role\": \"user\", \"content\": \"The cafeteria had 23 apples. If they used 20 to make lunch and bought 6 more, how many apples do they have?\"}\n",
    "]\n",
    "\n",
    "# Generate the output\n",
    "outputs = pipe(cot_prompt)\n",
    "print(outputs[0][\"generated_text\"])"
   ]
  },
  {
   "cell_type": "markdown",
   "metadata": {
    "id": "rvpJlfAaaPRv"
   },
   "source": [
    "### Zero-shot Chain-of-Thought"
   ]
  },
  {
   "cell_type": "code",
   "execution_count": 17,
   "metadata": {
    "colab": {
     "base_uri": "https://localhost:8080/"
    },
    "id": "F76QNkbzaIhb",
    "outputId": "ce2fa01a-3fea-4792-a378-e718e46b2772"
   },
   "outputs": [
    {
     "name": "stdout",
     "output_type": "stream",
     "text": [
      " Step 1: Start with the initial number of apples in the cafeteria, which is 23.\n",
      "\n",
      "Step 2: Subtract the number of apples used to make lunch, which is 20.\n",
      "23 - 20 = 3 apples remaining.\n",
      "\n",
      "Step 3: Add the number of apples bought, which is 6.\n",
      "3 + 6 = 9 apples.\n",
      "\n",
      "So, the cafeteria now has 9 apples.\n"
     ]
    }
   ],
   "source": [
    "# Zero-shot Chain-of-Thought\n",
    "zeroshot_cot_prompt = [\n",
    "    {\"role\": \"user\", \"content\": \"The cafeteria had 23 apples. If they used 20 to make lunch and bought 6 more, how many apples do they have? Let's think step-by-step.\"}\n",
    "]\n",
    "\n",
    "# Generate the output\n",
    "outputs = pipe(zeroshot_cot_prompt)\n",
    "print(outputs[0][\"generated_text\"])"
   ]
  },
  {
   "cell_type": "markdown",
   "metadata": {
    "id": "Ak2M6ZQ7aWei"
   },
   "source": [
    "### Tree-of-Thought: Exploring Intermediate Steps"
   ]
  },
  {
   "cell_type": "code",
   "execution_count": 18,
   "metadata": {
    "id": "MsaTG6h1aUKF"
   },
   "outputs": [],
   "source": [
    "# Zero-shot Chain-of-Thought\n",
    "zeroshot_tot_prompt = [\n",
    "    {\"role\": \"user\", \"content\": \"Imagine three different experts are answering this question. All experts will write down 1 step of their thinking, then share it with the group. Then all experts will go on to the next step, etc. If any expert realises they're wrong at any point then they leave. The question is 'The cafeteria had 23 apples. If they used 20 to make lunch and bought 6 more, how many apples do they have?' Make sure to discuss the results.\"}\n",
    "]"
   ]
  },
  {
   "cell_type": "code",
   "execution_count": 19,
   "metadata": {
    "colab": {
     "base_uri": "https://localhost:8080/"
    },
    "id": "rGZZ8VXdaZfi",
    "outputId": "3c89e3cb-cc7b-455d-d3ff-c437bbdc28d7"
   },
   "outputs": [
    {
     "name": "stderr",
     "output_type": "stream",
     "text": [
      "You seem to be using the pipelines sequentially on GPU. In order to maximize efficiency please use a dataset\n"
     ]
    },
    {
     "name": "stdout",
     "output_type": "stream",
     "text": [
      " Expert 1:\n",
      "Step 1: Start with the initial number of apples, which is 23.\n",
      "\n",
      "Expert 2:\n",
      "Step 1: Subtract the number of apples used for lunch, which is 20. This leaves us with 3 apples.\n",
      "Step 2: Add the number of apples bought, which is 6. This results in a total of 9 apples.\n",
      "\n",
      "Expert 3:\n",
      "Step 1: Begin with the initial number of apples, which is 23.\n",
      "Step 2: Subtract the number of apples used for lunch, which is 20. This leaves us with 3 apples.\n",
      "Step 3: Add the number of apples bought, which is 6. This results in a total of 9 apples.\n",
      "\n",
      "Discussion:\n",
      "All three experts arrived at the same answer, which is 9 apples. This indicates that their calculations were correct. The cafeteria started with 23 apples, used 20 for lunch, and then bought 6 more, resulting in a total of 9 apples.\n"
     ]
    }
   ],
   "source": [
    "# Generate the output\n",
    "outputs = pipe(zeroshot_tot_prompt)\n",
    "print(outputs[0][\"generated_text\"])"
   ]
  },
  {
   "cell_type": "markdown",
   "metadata": {
    "id": "M5LBwVSbbafN"
   },
   "source": [
    "## Output Verification"
   ]
  },
  {
   "cell_type": "markdown",
   "metadata": {
    "id": "DjRP1CoDbh5y"
   },
   "source": [
    "### Providing Examples"
   ]
  },
  {
   "cell_type": "code",
   "execution_count": 20,
   "metadata": {
    "colab": {
     "base_uri": "https://localhost:8080/"
    },
    "id": "LyhilVjEbemW",
    "outputId": "9190e23d-8978-4d4b-e77e-487962ddfb9e"
   },
   "outputs": [
    {
     "name": "stdout",
     "output_type": "stream",
     "text": [
      " ```json\n",
      "{\n",
      "  \"name\": \"Aria Stormbringer\",\n",
      "  \"class\": \"Warrior\",\n",
      "  \"race\": \"Human\",\n",
      "  \"level\": 10,\n",
      "  \"attributes\": {\n",
      "    \"strength\": 18,\n",
      "    \"dexterity\": 12,\n",
      "    \"constitution\": 16,\n",
      "    \"intelligence\": 8,\n",
      "    \"wisdom\": 10,\n",
      "    \"charisma\": 14\n",
      "  },\n",
      "  \"skills\": {\n",
      "    \"melee\": 15,\n",
      "    \"ranged\": 10,\n",
      "    \"magic\": 5,\n",
      "    \"stealth\": 12,\n",
      "    \"acrobatics\": 10,\n",
      "    \"survival\": 14\n",
      "  },\n",
      "  \"equipment\": {\n",
      "    \"weapon\": \"Two-handed Axe\",\n",
      "    \"armor\": \"Chainmail Hauberk\",\n",
      "    \"shield\": \"Warhammer\",\n",
      "    \"accessories\": [\n",
      "      \"Ring of Protection\",\n",
      "      \"Warrior's Bracer\"\n",
      "    ]\n",
      "  },\n",
      "  \"background\": \"Aria was born into a noble family, but her life took a turn when her father was killed in battle. She trained as a warrior to avenge his death and protect her homeland from invaders.\"\n",
      "}\n",
      "```\n"
     ]
    }
   ],
   "source": [
    "# Zero-shot learning: Providing no examples\n",
    "zeroshot_prompt = [\n",
    "    {\"role\": \"user\", \"content\": \"Create a character profile for an RPG game in JSON format.\"}\n",
    "]\n",
    "\n",
    "# Generate the output\n",
    "outputs = pipe(zeroshot_prompt)\n",
    "print(outputs[0][\"generated_text\"])"
   ]
  },
  {
   "cell_type": "code",
   "execution_count": 21,
   "metadata": {
    "colab": {
     "base_uri": "https://localhost:8080/"
    },
    "id": "UDA2GFFPboEW",
    "outputId": "3ca1ec38-252d-420d-a962-d62015a6345e"
   },
   "outputs": [
    {
     "name": "stdout",
     "output_type": "stream",
     "text": [
      " {\n",
      "  \"description\": \"A cunning rogue with a mysterious past, skilled in stealth and deception.\",\n",
      "  \"name\": \"Shadowcloak\",\n",
      "  \"armor\": \"Leather Hood\",\n",
      "  \"weapon\": \"Dagger\"\n",
      "}\n"
     ]
    }
   ],
   "source": [
    "# One-shot learning: Providing an example of the output structure\n",
    "one_shot_template = \"\"\"Create a short character profile for an RPG game. Make sure to only use this format:\n",
    "\n",
    "{\n",
    "  \"description\": \"A SHORT DESCRIPTION\",\n",
    "  \"name\": \"THE CHARACTER'S NAME\",\n",
    "  \"armor\": \"ONE PIECE OF ARMOR\",\n",
    "  \"weapon\": \"ONE OR MORE WEAPONS\"\n",
    "}\n",
    "\"\"\"\n",
    "one_shot_prompt = [\n",
    "    {\"role\": \"user\", \"content\": one_shot_template}\n",
    "]\n",
    "\n",
    "# Generate the output\n",
    "outputs = pipe(one_shot_prompt)\n",
    "print(outputs[0][\"generated_text\"])"
   ]
  },
  {
   "cell_type": "markdown",
   "metadata": {
    "id": "dVf00glsbtSn"
   },
   "source": [
    "### Grammar: Constrained Sampling"
   ]
  },
  {
   "cell_type": "code",
   "execution_count": 10,
   "metadata": {
    "id": "J9KFCpQ4bqbe"
   },
   "outputs": [],
   "source": [
    "import gc\n",
    "import torch\n",
    "# del model, tokenizer, pipe\n",
    "\n",
    "# Flush memory\n",
    "gc.collect()\n",
    "torch.cuda.empty_cache()"
   ]
  },
  {
   "cell_type": "code",
   "execution_count": 5,
   "metadata": {
    "colab": {
     "base_uri": "https://localhost:8080/",
     "height": 194,
     "referenced_widgets": [
      "63e13b9cec834e91bbdee60c47c6e638",
      "866d436f7b1f430f8deb32fa2a0c20a3",
      "639e39df4feb47cc9daa7d69b9843f99",
      "24e14dc5a95845ee8eb85462c791bdf9",
      "dae03a2c5dca4b4a8f73b93d6f686b2d",
      "934b37284bf04e57a7e1a88ef6004ec8",
      "53baf59c770b4bd184ff0bca4488805a",
      "012860f67d344b44bd0497098d98d419",
      "2da4fafd381c4121a1eb21528392b653",
      "6473aa6ecc8b4211b00d9818093efba6",
      "2fe21471e2df41a8968b3d639220f301"
     ]
    },
    "id": "SeLCgNzvb6kd",
    "outputId": "c0e65b00-d36a-4ff1-fc31-e2a24e5d64d2"
   },
   "outputs": [
    {
     "name": "stderr",
     "output_type": "stream",
     "text": [
      "/usr/local/lib/python3.11/dist-packages/huggingface_hub/utils/_auth.py:94: UserWarning: \n",
      "The secret `HF_TOKEN` does not exist in your Colab secrets.\n",
      "To authenticate with the Hugging Face Hub, create a token in your settings tab (https://huggingface.co/settings/tokens), set it as secret in your Google Colab and restart your session.\n",
      "You will be able to reuse this secret in all of your notebooks.\n",
      "Please note that authentication is recommended but still optional to access public models or datasets.\n",
      "  warnings.warn(\n"
     ]
    },
    {
     "data": {
      "application/vnd.jupyter.widget-view+json": {
       "model_id": "63e13b9cec834e91bbdee60c47c6e638",
       "version_major": 2,
       "version_minor": 0
      },
      "text/plain": [
       "Phi-3-mini-4k-instruct-fp16.gguf:   0%|          | 0.00/7.64G [00:00<?, ?B/s]"
      ]
     },
     "metadata": {},
     "output_type": "display_data"
    },
    {
     "name": "stderr",
     "output_type": "stream",
     "text": [
      "llama_init_from_model: n_ctx_per_seq (2048) < n_ctx_train (4096) -- the full capacity of the model will not be utilized\n"
     ]
    }
   ],
   "source": [
    "from llama_cpp.llama import Llama\n",
    "\n",
    "# Load Phi-3\n",
    "llm = Llama.from_pretrained(\n",
    "    repo_id=\"microsoft/Phi-3-mini-4k-instruct-gguf\",\n",
    "    filename=\"*fp16.gguf\",\n",
    "    n_gpu_layers=-1,\n",
    "    n_ctx=2048,\n",
    "    verbose=False\n",
    ")"
   ]
  },
  {
   "cell_type": "code",
   "execution_count": 6,
   "metadata": {
    "id": "_9D3r3E0b8vN"
   },
   "outputs": [],
   "source": [
    "# Generate output\n",
    "output = llm.create_chat_completion(\n",
    "    messages=[\n",
    "        {\"role\": \"user\", \"content\": \"Create a warrior for an RPG in JSON format.\"},\n",
    "    ],\n",
    "    response_format={\"type\": \"json_object\"},\n",
    "    temperature=0,\n",
    ")['choices'][0]['message'][\"content\"]"
   ]
  },
  {
   "cell_type": "code",
   "execution_count": 7,
   "metadata": {
    "colab": {
     "base_uri": "https://localhost:8080/"
    },
    "id": "EPVbi1V7b_Jj",
    "outputId": "2262ef40-6d44-4dfc-e49a-ea10e8bd0324"
   },
   "outputs": [
    {
     "name": "stdout",
     "output_type": "stream",
     "text": [
      "{\n",
      "    \"warrior\": {\n",
      "        \"name\": \"Eldric Stormbringer\",\n",
      "        \"class\": \"Warrior\",\n",
      "        \"level\": 5,\n",
      "        \"attributes\": {\n",
      "            \"strength\": 18,\n",
      "            \"dexterity\": 10,\n",
      "            \"constitution\": 16,\n",
      "            \"intelligence\": 8,\n",
      "            \"wisdom\": 10,\n",
      "            \"charisma\": 12\n",
      "        },\n",
      "        \"skills\": [\n",
      "            {\n",
      "                \"name\": \"Martial Arts\",\n",
      "                \"proficiency\": 20,\n",
      "                \"description\": \"Expert in hand-to-hand combat and weapon handling.\"\n",
      "            },\n",
      "            {\n",
      "                \"name\": \"Shield Block\",\n",
      "                \"proficiency\": 18,\n",
      "                \"description\": \"Highly skilled at deflecting attacks with a shield.\"\n",
      "            },\n",
      "            {\n",
      "                \"name\": \"Heavy Armor\",\n",
      "                \"proficiency\": 16,\n",
      "                \"description\": \"Expertly equipped with heavy armor for protection.\"\n",
      "            },\n",
      "            {\n",
      "                \"name\": \"Survival\",\n",
      "                \"proficiency\": 14,\n",
      "                \"description\": \"Adept at finding food, water, and shelter in the wilderness.\"\n",
      "            }\n",
      "        ],\n",
      "        \"equipment\": [\n",
      "            {\n",
      "                \"name\": \"Iron Sword\",\n",
      "                \"type\": \"Weapon\",\n",
      "                \"damage\": 12,\n",
      "                \"durability\": 100\n",
      "            },\n",
      "            {\n",
      "                \"name\": \"Chainmail Armor\",\n",
      "                \"type\": \"Armor\",\n",
      "                \"defense\": 18,\n",
      "                \"durability\": 100\n",
      "            },\n",
      "            {\n",
      "                \"name\": \"Leather Boots\",\n",
      "                \"type\": \"Armor\",\n",
      "                \"defense\": 8,\n",
      "                \"durability\": 100\n",
      "            }\n",
      "        ],\n",
      "        \"abilities\": [\n",
      "            {\n",
      "                \"name\": \"Berserker Rage\",\n",
      "                \"description\": \"Increases strength and attack power for a short duration.\"\n",
      "            },\n",
      "            {\n",
      "                \"name\": \"Shield Wall\",\n",
      "                \"description\": \"Forms a defensive barrier with allies, reducing incoming damage.\"\n",
      "            },\n",
      "            {\n",
      "                \"name\": \"Battle Cry\",\n",
      "                \"description\": \"Inspires nearby allies, increasing their attack power temporarily.\"\n",
      "            }\n",
      "        ]\n",
      "    }\n",
      "}\n"
     ]
    }
   ],
   "source": [
    "import json\n",
    "\n",
    "# Format as json\n",
    "json_output = json.dumps(json.loads(output), indent=4)\n",
    "print(json_output)"
   ]
  },
  {
   "cell_type": "code",
   "execution_count": 8,
   "metadata": {
    "id": "Ul4lfOh8cBFm"
   },
   "outputs": [],
   "source": [
    "# check validity of json format using LLM\n",
    "output2 = llm.create_chat_completion(\n",
    "    messages=[\n",
    "        {\"role\": \"user\", \"content\": \"Answer in yes/no. Is the following LLM output in json format? -  {}\".format(output)},\n",
    "    ]\n",
    ")['choices'][0]['message'][\"content\"]"
   ]
  },
  {
   "cell_type": "code",
   "execution_count": 9,
   "metadata": {
    "colab": {
     "base_uri": "https://localhost:8080/"
    },
    "id": "BsQBqKyX4BAQ",
    "outputId": "61cfd1f8-39cd-49c3-c8b4-0f87db379821"
   },
   "outputs": [
    {
     "name": "stdout",
     "output_type": "stream",
     "text": [
      " Yes.\n"
     ]
    }
   ],
   "source": [
    "print(output2)"
   ]
  },
  {
   "cell_type": "code",
   "execution_count": null,
   "metadata": {
    "id": "VYPIctpb4DI_"
   },
   "outputs": [],
   "source": []
  }
 ],
 "metadata": {
  "accelerator": "GPU",
  "colab": {
   "authorship_tag": "ABX9TyNdgT8P5gzUjZ9esaoFYTOH",
   "gpuType": "T4",
   "include_colab_link": true,
   "provenance": []
  },
  "kernelspec": {
   "display_name": "Python 3 (ipykernel)",
   "language": "python",
   "name": "python3"
  },
  "language_info": {
   "codemirror_mode": {
    "name": "ipython",
    "version": 3
   },
   "file_extension": ".py",
   "mimetype": "text/x-python",
   "name": "python",
   "nbconvert_exporter": "python",
   "pygments_lexer": "ipython3",
   "version": "3.9.13"
  },
  "widgets": {
   "application/vnd.jupyter.widget-state+json": {
    "state": {},
    "version_major": 2,
    "version_minor": 0
   }
  }
 },
 "nbformat": 4,
 "nbformat_minor": 1
}
